{
 "cells": [
  {
   "cell_type": "markdown",
   "metadata": {},
   "source": [
    "# Concrete Compressive Strength Data Set"
   ]
  },
  {
   "cell_type": "code",
   "execution_count": 1,
   "metadata": {},
   "outputs": [],
   "source": [
    "#Import libraries\n",
    "import pandas as pd\n",
    "import numpy as np\n",
    "import matplotlib.pyplot as plt\n",
    "import seaborn as sns"
   ]
  },
  {
   "cell_type": "markdown",
   "metadata": {},
   "source": [
    "# Data Processing"
   ]
  },
  {
   "cell_type": "code",
   "execution_count": 2,
   "metadata": {},
   "outputs": [
    {
     "data": {
      "text/html": [
       "<div>\n",
       "<style scoped>\n",
       "    .dataframe tbody tr th:only-of-type {\n",
       "        vertical-align: middle;\n",
       "    }\n",
       "\n",
       "    .dataframe tbody tr th {\n",
       "        vertical-align: top;\n",
       "    }\n",
       "\n",
       "    .dataframe thead th {\n",
       "        text-align: right;\n",
       "    }\n",
       "</style>\n",
       "<table border=\"1\" class=\"dataframe\">\n",
       "  <thead>\n",
       "    <tr style=\"text-align: right;\">\n",
       "      <th></th>\n",
       "      <th>Cement (component 1)(kg in a m^3 mixture)</th>\n",
       "      <th>Blast Furnace Slag (component 2)(kg in a m^3 mixture)</th>\n",
       "      <th>Fly Ash (component 3)(kg in a m^3 mixture)</th>\n",
       "      <th>Water  (component 4)(kg in a m^3 mixture)</th>\n",
       "      <th>Superplasticizer (component 5)(kg in a m^3 mixture)</th>\n",
       "      <th>Coarse Aggregate  (component 6)(kg in a m^3 mixture)</th>\n",
       "      <th>Fine Aggregate (component 7)(kg in a m^3 mixture)</th>\n",
       "      <th>Age (day)</th>\n",
       "      <th>Concrete compressive strength(MPa, megapascals)</th>\n",
       "    </tr>\n",
       "  </thead>\n",
       "  <tbody>\n",
       "    <tr>\n",
       "      <th>0</th>\n",
       "      <td>540.0</td>\n",
       "      <td>0.0</td>\n",
       "      <td>0.0</td>\n",
       "      <td>162.0</td>\n",
       "      <td>2.5</td>\n",
       "      <td>1040.0</td>\n",
       "      <td>676.0</td>\n",
       "      <td>28</td>\n",
       "      <td>79.986111</td>\n",
       "    </tr>\n",
       "    <tr>\n",
       "      <th>1</th>\n",
       "      <td>540.0</td>\n",
       "      <td>0.0</td>\n",
       "      <td>0.0</td>\n",
       "      <td>162.0</td>\n",
       "      <td>2.5</td>\n",
       "      <td>1055.0</td>\n",
       "      <td>676.0</td>\n",
       "      <td>28</td>\n",
       "      <td>61.887366</td>\n",
       "    </tr>\n",
       "    <tr>\n",
       "      <th>2</th>\n",
       "      <td>332.5</td>\n",
       "      <td>142.5</td>\n",
       "      <td>0.0</td>\n",
       "      <td>228.0</td>\n",
       "      <td>0.0</td>\n",
       "      <td>932.0</td>\n",
       "      <td>594.0</td>\n",
       "      <td>270</td>\n",
       "      <td>40.269535</td>\n",
       "    </tr>\n",
       "    <tr>\n",
       "      <th>3</th>\n",
       "      <td>332.5</td>\n",
       "      <td>142.5</td>\n",
       "      <td>0.0</td>\n",
       "      <td>228.0</td>\n",
       "      <td>0.0</td>\n",
       "      <td>932.0</td>\n",
       "      <td>594.0</td>\n",
       "      <td>365</td>\n",
       "      <td>41.052780</td>\n",
       "    </tr>\n",
       "    <tr>\n",
       "      <th>4</th>\n",
       "      <td>198.6</td>\n",
       "      <td>132.4</td>\n",
       "      <td>0.0</td>\n",
       "      <td>192.0</td>\n",
       "      <td>0.0</td>\n",
       "      <td>978.4</td>\n",
       "      <td>825.5</td>\n",
       "      <td>360</td>\n",
       "      <td>44.296075</td>\n",
       "    </tr>\n",
       "    <tr>\n",
       "      <th>...</th>\n",
       "      <td>...</td>\n",
       "      <td>...</td>\n",
       "      <td>...</td>\n",
       "      <td>...</td>\n",
       "      <td>...</td>\n",
       "      <td>...</td>\n",
       "      <td>...</td>\n",
       "      <td>...</td>\n",
       "      <td>...</td>\n",
       "    </tr>\n",
       "    <tr>\n",
       "      <th>1025</th>\n",
       "      <td>276.4</td>\n",
       "      <td>116.0</td>\n",
       "      <td>90.3</td>\n",
       "      <td>179.6</td>\n",
       "      <td>8.9</td>\n",
       "      <td>870.1</td>\n",
       "      <td>768.3</td>\n",
       "      <td>28</td>\n",
       "      <td>44.284354</td>\n",
       "    </tr>\n",
       "    <tr>\n",
       "      <th>1026</th>\n",
       "      <td>322.2</td>\n",
       "      <td>0.0</td>\n",
       "      <td>115.6</td>\n",
       "      <td>196.0</td>\n",
       "      <td>10.4</td>\n",
       "      <td>817.9</td>\n",
       "      <td>813.4</td>\n",
       "      <td>28</td>\n",
       "      <td>31.178794</td>\n",
       "    </tr>\n",
       "    <tr>\n",
       "      <th>1027</th>\n",
       "      <td>148.5</td>\n",
       "      <td>139.4</td>\n",
       "      <td>108.6</td>\n",
       "      <td>192.7</td>\n",
       "      <td>6.1</td>\n",
       "      <td>892.4</td>\n",
       "      <td>780.0</td>\n",
       "      <td>28</td>\n",
       "      <td>23.696601</td>\n",
       "    </tr>\n",
       "    <tr>\n",
       "      <th>1028</th>\n",
       "      <td>159.1</td>\n",
       "      <td>186.7</td>\n",
       "      <td>0.0</td>\n",
       "      <td>175.6</td>\n",
       "      <td>11.3</td>\n",
       "      <td>989.6</td>\n",
       "      <td>788.9</td>\n",
       "      <td>28</td>\n",
       "      <td>32.768036</td>\n",
       "    </tr>\n",
       "    <tr>\n",
       "      <th>1029</th>\n",
       "      <td>260.9</td>\n",
       "      <td>100.5</td>\n",
       "      <td>78.3</td>\n",
       "      <td>200.6</td>\n",
       "      <td>8.6</td>\n",
       "      <td>864.5</td>\n",
       "      <td>761.5</td>\n",
       "      <td>28</td>\n",
       "      <td>32.401235</td>\n",
       "    </tr>\n",
       "  </tbody>\n",
       "</table>\n",
       "<p>1030 rows × 9 columns</p>\n",
       "</div>"
      ],
      "text/plain": [
       "      Cement (component 1)(kg in a m^3 mixture)  \\\n",
       "0                                         540.0   \n",
       "1                                         540.0   \n",
       "2                                         332.5   \n",
       "3                                         332.5   \n",
       "4                                         198.6   \n",
       "...                                         ...   \n",
       "1025                                      276.4   \n",
       "1026                                      322.2   \n",
       "1027                                      148.5   \n",
       "1028                                      159.1   \n",
       "1029                                      260.9   \n",
       "\n",
       "      Blast Furnace Slag (component 2)(kg in a m^3 mixture)  \\\n",
       "0                                                   0.0       \n",
       "1                                                   0.0       \n",
       "2                                                 142.5       \n",
       "3                                                 142.5       \n",
       "4                                                 132.4       \n",
       "...                                                 ...       \n",
       "1025                                              116.0       \n",
       "1026                                                0.0       \n",
       "1027                                              139.4       \n",
       "1028                                              186.7       \n",
       "1029                                              100.5       \n",
       "\n",
       "      Fly Ash (component 3)(kg in a m^3 mixture)  \\\n",
       "0                                            0.0   \n",
       "1                                            0.0   \n",
       "2                                            0.0   \n",
       "3                                            0.0   \n",
       "4                                            0.0   \n",
       "...                                          ...   \n",
       "1025                                        90.3   \n",
       "1026                                       115.6   \n",
       "1027                                       108.6   \n",
       "1028                                         0.0   \n",
       "1029                                        78.3   \n",
       "\n",
       "      Water  (component 4)(kg in a m^3 mixture)  \\\n",
       "0                                         162.0   \n",
       "1                                         162.0   \n",
       "2                                         228.0   \n",
       "3                                         228.0   \n",
       "4                                         192.0   \n",
       "...                                         ...   \n",
       "1025                                      179.6   \n",
       "1026                                      196.0   \n",
       "1027                                      192.7   \n",
       "1028                                      175.6   \n",
       "1029                                      200.6   \n",
       "\n",
       "      Superplasticizer (component 5)(kg in a m^3 mixture)  \\\n",
       "0                                                   2.5     \n",
       "1                                                   2.5     \n",
       "2                                                   0.0     \n",
       "3                                                   0.0     \n",
       "4                                                   0.0     \n",
       "...                                                 ...     \n",
       "1025                                                8.9     \n",
       "1026                                               10.4     \n",
       "1027                                                6.1     \n",
       "1028                                               11.3     \n",
       "1029                                                8.6     \n",
       "\n",
       "      Coarse Aggregate  (component 6)(kg in a m^3 mixture)  \\\n",
       "0                                                1040.0      \n",
       "1                                                1055.0      \n",
       "2                                                 932.0      \n",
       "3                                                 932.0      \n",
       "4                                                 978.4      \n",
       "...                                                 ...      \n",
       "1025                                              870.1      \n",
       "1026                                              817.9      \n",
       "1027                                              892.4      \n",
       "1028                                              989.6      \n",
       "1029                                              864.5      \n",
       "\n",
       "      Fine Aggregate (component 7)(kg in a m^3 mixture)  Age (day)  \\\n",
       "0                                                 676.0         28   \n",
       "1                                                 676.0         28   \n",
       "2                                                 594.0        270   \n",
       "3                                                 594.0        365   \n",
       "4                                                 825.5        360   \n",
       "...                                                 ...        ...   \n",
       "1025                                              768.3         28   \n",
       "1026                                              813.4         28   \n",
       "1027                                              780.0         28   \n",
       "1028                                              788.9         28   \n",
       "1029                                              761.5         28   \n",
       "\n",
       "      Concrete compressive strength(MPa, megapascals)   \n",
       "0                                            79.986111  \n",
       "1                                            61.887366  \n",
       "2                                            40.269535  \n",
       "3                                            41.052780  \n",
       "4                                            44.296075  \n",
       "...                                                ...  \n",
       "1025                                         44.284354  \n",
       "1026                                         31.178794  \n",
       "1027                                         23.696601  \n",
       "1028                                         32.768036  \n",
       "1029                                         32.401235  \n",
       "\n",
       "[1030 rows x 9 columns]"
      ]
     },
     "execution_count": 2,
     "metadata": {},
     "output_type": "execute_result"
    }
   ],
   "source": [
    "#Import dataset\n",
    "dataset = pd.read_excel('Concrete_Data.xls')\n",
    "dataset"
   ]
  },
  {
   "cell_type": "code",
   "execution_count": 3,
   "metadata": {},
   "outputs": [
    {
     "name": "stdout",
     "output_type": "stream",
     "text": [
      "(1030, 8)\n",
      "(1030,)\n"
     ]
    }
   ],
   "source": [
    "#X: read all but \"Concrete compressive strength(MPa, megapascals) \"\n",
    "#Y: read only \"Concrete compressive strength(MPa, megapascals) \"\n",
    "X = dataset.iloc[:, :-1].values\n",
    "y = dataset['Concrete compressive strength(MPa, megapascals) '].values\n",
    "print(X.shape)\n",
    "print(y.shape)"
   ]
  },
  {
   "cell_type": "code",
   "execution_count": 4,
   "metadata": {},
   "outputs": [],
   "source": [
    "#Split the dataset into 25% test_size and 75% training_size\n",
    "from sklearn.model_selection import train_test_split\n",
    "X_train, X_test, y_train, y_test = train_test_split(X, y, test_size=0.25, random_state=0)"
   ]
  },
  {
   "cell_type": "code",
   "execution_count": 5,
   "metadata": {},
   "outputs": [],
   "source": [
    "#Apply feature scaling\n",
    "from sklearn.preprocessing import StandardScaler\n",
    "sc = StandardScaler()\n",
    "X_train = sc.fit_transform(X_train)\n",
    "X_test = sc.transform(X_test)"
   ]
  },
  {
   "cell_type": "markdown",
   "metadata": {},
   "source": [
    "# Linear Regression"
   ]
  },
  {
   "cell_type": "code",
   "execution_count": 6,
   "metadata": {},
   "outputs": [
    {
     "data": {
      "text/plain": [
       "LinearRegression()"
      ]
     },
     "execution_count": 6,
     "metadata": {},
     "output_type": "execute_result"
    }
   ],
   "source": [
    "#Train the linear regression model\n",
    "from sklearn.linear_model import LinearRegression\n",
    "lr = LinearRegression()\n",
    "lr.fit(X_train, y_train)"
   ]
  },
  {
   "cell_type": "code",
   "execution_count": 7,
   "metadata": {},
   "outputs": [
    {
     "name": "stdout",
     "output_type": "stream",
     "text": [
      "[39.53843768 14.34936935 61.32832879 54.05007279 24.44915798 53.61997349\n",
      " 46.00051449 27.31365368 53.24118522 37.08105655 16.76179008 39.43023473\n",
      " 29.6966645  35.88590096 47.62603924 56.72190875 35.78190854 29.36761054\n",
      " 48.69748598 35.32244755 53.80778592 32.10885773 33.05096622 48.24665201\n",
      " 23.62225918 23.53937775 69.39968359 26.75217056 56.71244997 48.22144978\n",
      " 18.97357322 36.44825335 17.4285217  19.52169369 24.61424879 15.28979022\n",
      " 53.16913952 28.15591384 27.19467207 26.31444139 52.52817644 30.42589129\n",
      " 25.77210551 35.57602364 53.79739874 53.99405466 30.44610229 44.14685805\n",
      " 27.16218277 57.07678358 36.70617404 19.12163292 23.21407155 34.65583817\n",
      " 43.69103509 47.45991463 35.93732188 53.14357884 59.96760476 36.64290334\n",
      " 31.15917378 20.62564021 50.82298208 55.58817946 20.68127714 44.27517256\n",
      " 33.2676485  34.19515444 19.361089   20.12735612 28.49751098 27.89770398\n",
      " 54.44488863 19.5352411  36.53939716 50.74835865 28.22825185 19.21291633\n",
      " 23.92639344 28.13621474 18.13588062 44.69161101 33.11960957 33.21703494\n",
      " 38.47828533 34.82591188 49.01654869 50.65194814 38.79184334 31.48592723\n",
      " 52.94767412 20.55947915 26.07386026 37.35982743 26.47099293 55.73533619\n",
      " 32.75831133 33.82879597 51.50639116 27.08223122 30.34848311 38.46360643\n",
      " 25.35939689 32.01045581 34.26725012 35.35546614 39.53804172 32.64251373\n",
      " 28.10518229 39.71716346 18.34014434 48.93318051 25.40260761 33.19049881\n",
      " 40.04042057 64.09626119 31.30116758 35.46857846 41.05808427 31.9507054\n",
      " 42.35614999 25.83918838 60.9394533  26.54082672 17.93670731 20.23490917\n",
      " 15.80259152 19.23711642 40.10643834 32.57267282 30.16649957 47.22482086\n",
      " 33.74452866 24.45822659 19.36362274 54.53926482 61.42072667 36.70263719\n",
      " 11.36245313 18.79097831 38.26774179 46.79714883 32.85901906 17.77509708\n",
      " 16.71553465 35.73150089 48.2850698  25.43268859 27.49090598 16.64465469\n",
      " 24.82794917 28.38491601 26.65033296 19.09402167 31.02184319 30.72695516\n",
      " 47.93951781 30.38680864 30.67841806 22.37968402 38.99053854 42.31340019\n",
      " 23.84935351 25.98913752 33.03694099 23.25087405 56.22143953 53.55661218\n",
      " 57.5044556  11.08107578 30.85350979 33.66856421 24.51587698 58.86013517\n",
      " 21.74298741 21.66647682 16.75321011 48.98362477 23.43796476 39.57453445\n",
      " 33.15835848 31.80373713 19.05162531 39.04242701 31.12018722 27.53035159\n",
      " 40.5696556  39.7805887  28.29370003 50.82298208 21.13605096 72.55552138\n",
      " 44.40371187 27.86529978 14.60142248 29.01855516 31.45126496 27.59073904\n",
      " 30.80149927 58.50172653 17.54371403 20.87737326 41.3196566  31.66246675\n",
      " 33.38737161 23.72311441 39.04252076 30.55494206 30.9526246  25.36212972\n",
      " 49.34407652 22.90627023 23.10312263 22.65151841 26.08194819 21.79428713\n",
      " 22.48199106 39.3130207  19.55813207 39.96074286 57.59972163 31.81982102\n",
      " 38.86489163 36.41869667 41.32128364 36.1056779  25.89922133 32.64981444\n",
      " 34.30376667 45.38665146 36.46176701 37.13455944 61.16450649 21.28133918\n",
      " 35.44780757 31.81117281 31.64795943 36.22079944 31.00523909 59.5348674\n",
      " 59.14268961 26.93729224 42.88910886 33.05961444 27.91605776 31.38300988\n",
      " 49.13951282 28.17316823 35.20824644 15.78209775 11.67390355 40.05676675\n",
      " 35.9823976  31.05354176 38.74246446 21.5595151  24.53695509 19.60175151]\n"
     ]
    }
   ],
   "source": [
    "#Predict the test set\n",
    "y_pred_lr = lr.predict(X_test)\n",
    "print(y_pred_lr)"
   ]
  },
  {
   "cell_type": "code",
   "execution_count": 8,
   "metadata": {},
   "outputs": [
    {
     "name": "stdout",
     "output_type": "stream",
     "text": [
      "The coefficient is 12.791717393192487 and the interception is 36.24791144116473\n"
     ]
    }
   ],
   "source": [
    "#Determine coefficient and intercept\n",
    "coefficients = lr.coef_\n",
    "intercept = lr.intercept_\n",
    "print('The coefficient is {} and the interception is {}'.format(coefficients[0], intercept))"
   ]
  },
  {
   "cell_type": "code",
   "execution_count": 9,
   "metadata": {},
   "outputs": [
    {
     "data": {
      "image/png": "[encoded data removed]",
      "text/plain": [
       "<Figure size 432x288 with 1 Axes>"
      ]
     },
     "metadata": {
      "needs_background": "light"
     },
     "output_type": "display_data"
    }
   ],
   "source": [
    "#Plot the predictions\n",
    "plt.scatter(y_test, y_pred_lr)\n",
    "plt.plot(y_test, y_test, c='orange', lw=2)\n",
    "plt.xlabel(\"Predicted\")\n",
    "plt.ylabel(\"True\")\n",
    "plt.title(\"Linear Regression\")\n",
    "plt.show()"
   ]
  },
  {
   "cell_type": "code",
   "execution_count": 10,
   "metadata": {},
   "outputs": [
    {
     "name": "stdout",
     "output_type": "stream",
     "text": [
      "Root mean squared error: 9.793065711860159\n",
      "R2 score: 0.6234144623633202\n"
     ]
    }
   ],
   "source": [
    "#Get RMSE, R2\n",
    "from sklearn.metrics import mean_squared_error, r2_score\n",
    "rmse = mean_squared_error(y_test, y_pred_lr, squared=False)\n",
    "r2 = r2_score(y_test, y_pred_lr)\n",
    "print(\"Root mean squared error:\", rmse)\n",
    "print(\"R2 score:\", r2)"
   ]
  },
  {
   "cell_type": "code",
   "execution_count": 11,
   "metadata": {},
   "outputs": [],
   "source": [
    "#Gather results into a dataframe\n",
    "results = pd.DataFrame([['LinearRegression', rmse, r2]],\n",
    "               columns = ['Model', 'RMSE', 'R2-Score'])"
   ]
  },
  {
   "cell_type": "markdown",
   "metadata": {},
   "source": [
    "# Ridge Regression"
   ]
  },
  {
   "cell_type": "code",
   "execution_count": 12,
   "metadata": {},
   "outputs": [
    {
     "data": {
      "text/plain": [
       "{'alpha': 0.7}"
      ]
     },
     "execution_count": 12,
     "metadata": {},
     "output_type": "execute_result"
    }
   ],
   "source": [
    "#Determines the best hyperparameters\n",
    "from sklearn.linear_model import Ridge\n",
    "from sklearn.model_selection import GridSearchCV\n",
    "import decimal\n",
    "\n",
    "def float_range(start, stop, step):\n",
    "    while start < stop:\n",
    "        yield float(start)\n",
    "        start += decimal.Decimal(step)\n",
    "\n",
    "params = {'alpha': list(float_range(0, 1, '0.1'))}\n",
    "grid_search_cv = GridSearchCV(Ridge(), params,  refit = False)\n",
    "grid_search_cv.fit(X_train, y_train)\n",
    "grid_search_cv.best_params_"
   ]
  },
  {
   "cell_type": "code",
   "execution_count": 13,
   "metadata": {},
   "outputs": [
    {
     "data": {
      "text/plain": [
       "Ridge(alpha=0.7, random_state=0)"
      ]
     },
     "execution_count": 13,
     "metadata": {},
     "output_type": "execute_result"
    }
   ],
   "source": [
    "#Train the linear regression model\n",
    "from sklearn.linear_model import Ridge\n",
    "ridge = Ridge(alpha=0.7, random_state=0)\n",
    "ridge.fit(X_train, y_train)"
   ]
  },
  {
   "cell_type": "code",
   "execution_count": 14,
   "metadata": {},
   "outputs": [
    {
     "name": "stdout",
     "output_type": "stream",
     "text": [
      "[39.43094198 14.38844603 61.25676032 54.01234549 24.4638856  53.66817512\n",
      " 46.12906097 27.32363292 53.26018911 37.16208044 16.84285299 39.41965074\n",
      " 29.61946532 35.81602099 47.66303405 56.72139156 35.77743464 29.3897089\n",
      " 48.67221669 35.26896209 53.69417063 32.15057582 33.02664803 48.22222623\n",
      " 23.66505745 23.57770794 69.43504054 26.75399475 56.71193677 48.20238425\n",
      " 19.01945022 36.55590628 17.48092127 19.62291579 24.67465563 15.3524759\n",
      " 53.21818466 28.13327874 27.20376959 26.28127471 52.43183883 30.50803198\n",
      " 25.84301411 35.5178123  53.89477281 53.95487754 30.47933002 44.0585999\n",
      " 27.26422545 57.09508495 36.78700084 19.16657017 23.2419153  34.56936038\n",
      " 43.61764059 47.33772533 35.99677633 53.14914428 59.91725114 36.71253168\n",
      " 31.2008846  20.5618285  50.74642202 55.60171172 20.67853901 44.3579274\n",
      " 33.28041787 34.22051631 19.4715086  20.19247125 28.50738207 27.899638\n",
      " 54.404868   19.60704108 36.50596935 50.75901796 28.20193638 19.26063709\n",
      " 23.97197473 28.12517227 18.34528817 44.64939149 33.18433595 33.16100595\n",
      " 38.41889531 34.9213397  48.91295809 50.54423741 38.80211743 31.47889458\n",
      " 52.9252292  20.57196372 26.08615916 37.35240126 26.58439763 55.75228037\n",
      " 32.70537193 33.82087247 51.39832031 27.12190796 30.27361115 38.47944473\n",
      " 25.28672834 32.05383035 34.25923965 35.40696853 39.50362117 32.64104843\n",
      " 28.13596567 39.70915994 18.371214   49.14593443 25.43696379 33.1331671\n",
      " 40.11738642 63.97067777 31.34844115 35.49484835 41.07161223 31.89569334\n",
      " 42.24338236 25.90807667 60.93032547 26.46953209 18.05537346 20.25840262\n",
      " 15.88521854 19.26332373 40.10255596 32.5294524  30.14627069 47.2868658\n",
      " 33.69399548 24.46910167 19.51759594 54.42534124 61.44487615 36.70771262\n",
      " 11.39960334 18.82120446 38.27992748 46.84733866 32.81700043 17.75400925\n",
      " 16.76343537 35.78709395 48.18178749 25.35225469 27.57641236 16.71858866\n",
      " 24.74515704 28.51524307 26.62696976 19.18338865 31.08041875 30.76406436\n",
      " 47.88037725 30.42855462 30.70334201 22.41485677 39.01124155 42.22088598\n",
      " 23.91282934 26.02750737 33.12327036 23.12242407 56.21603066 53.56200355\n",
      " 57.53461209 11.17004629 30.86187184 33.57766722 24.55160923 58.90030676\n",
      " 21.68296861 21.62539754 16.7933471  49.02708186 23.53317985 39.5669347\n",
      " 33.14464457 31.84716124 19.09892758 38.97663131 31.20014854 27.66745427\n",
      " 40.63281735 39.80561657 28.29686605 50.74642202 21.18028998 72.58497376\n",
      " 44.43442951 27.9634626  14.63642023 29.04792961 31.46266474 27.62458017\n",
      " 30.70753064 58.39421243 17.59160356 20.98861046 41.35498887 31.61442819\n",
      " 33.40098447 23.65709171 39.09504484 30.5857651  30.96286202 25.32140992\n",
      " 49.2182345  22.86287131 23.07816805 22.68224653 26.15824079 21.82530916\n",
      " 22.52895179 39.20594675 19.60532337 39.99153722 57.51724262 31.80778871\n",
      " 38.87710135 36.41700147 41.35684696 36.04458274 25.95969835 32.61940608\n",
      " 34.31371369 45.29607366 36.53541818 37.23994193 61.16914959 21.3216931\n",
      " 35.50270964 31.78917426 31.66393645 36.19313609 30.93133144 59.4353028\n",
      " 59.18055826 27.03729508 42.85401586 33.04526248 27.89450625 31.3645551\n",
      " 49.03587039 28.14601875 35.22425631 15.87501607 11.7675933  40.08314044\n",
      " 36.05211857 31.04957122 38.79217338 21.60952481 24.63646885 19.6394701 ]\n"
     ]
    }
   ],
   "source": [
    "#Predict the test set\n",
    "y_pred_ridge = ridge.predict(X_test)\n",
    "print(y_pred_ridge)"
   ]
  },
  {
   "cell_type": "code",
   "execution_count": 15,
   "metadata": {},
   "outputs": [
    {
     "name": "stdout",
     "output_type": "stream",
     "text": [
      "The coefficient is 12.61556480608036 and the interception is 36.24791144116474\n"
     ]
    }
   ],
   "source": [
    "#Determine coefficient and intercept\n",
    "coefficients = ridge.coef_\n",
    "intercept = ridge.intercept_\n",
    "print('The coefficient is {} and the interception is {}'.format(coefficients[0], intercept))"
   ]
  },
  {
   "cell_type": "code",
   "execution_count": 16,
   "metadata": {},
   "outputs": [
    {
     "data": {
      "image/png": "[encoded data removed]",
      "text/plain": [
       "<Figure size 432x288 with 1 Axes>"
      ]
     },
     "metadata": {
      "needs_background": "light"
     },
     "output_type": "display_data"
    }
   ],
   "source": [
    "#Plot the predictions\n",
    "plt.scatter(y_test, y_pred_ridge)\n",
    "plt.plot(y_test, y_test, c='orange', lw=2)\n",
    "plt.xlabel(\"Predicted\")\n",
    "plt.ylabel(\"True\")\n",
    "plt.title(\"Ridge Regression\")\n",
    "plt.show()"
   ]
  },
  {
   "cell_type": "code",
   "execution_count": 17,
   "metadata": {},
   "outputs": [
    {
     "name": "stdout",
     "output_type": "stream",
     "text": [
      "Root mean squared error: 9.788386917725527\n",
      "R2 score: 0.6237742159589177\n"
     ]
    }
   ],
   "source": [
    "#Get RMSE, R2\n",
    "from sklearn.metrics import mean_squared_error, r2_score\n",
    "rmse = mean_squared_error(y_test, y_pred_ridge, squared=False)\n",
    "r2 = r2_score(y_test, y_pred_ridge)\n",
    "print(\"Root mean squared error:\", rmse)\n",
    "print(\"R2 score:\", r2)"
   ]
  },
  {
   "cell_type": "code",
   "execution_count": 18,
   "metadata": {},
   "outputs": [],
   "source": [
    "#Gather results into a dataframe\n",
    "model_results = pd.DataFrame([['RidgeRegression', rmse, r2]],\n",
    "                    columns = ['Model', 'RMSE', 'R2-Score'])\n",
    "results = results.append(model_results, ignore_index = True)"
   ]
  },
  {
   "cell_type": "markdown",
   "metadata": {},
   "source": [
    "# Support Vector Machines"
   ]
  },
  {
   "cell_type": "code",
   "execution_count": 19,
   "metadata": {},
   "outputs": [
    {
     "data": {
      "text/plain": [
       "SVR()"
      ]
     },
     "execution_count": 19,
     "metadata": {},
     "output_type": "execute_result"
    }
   ],
   "source": [
    "#Train the support vector regression model\n",
    "from sklearn.svm import SVR\n",
    "svr = SVR()\n",
    "svr.fit(X_train, y_train)"
   ]
  },
  {
   "cell_type": "code",
   "execution_count": 20,
   "metadata": {},
   "outputs": [
    {
     "name": "stdout",
     "output_type": "stream",
     "text": [
      "[39.76367592 19.68126766 64.91880806 42.72143903 24.83612266 45.16504636\n",
      " 48.58334904 28.8272738  46.90700448 45.02098399 19.66869799 44.57113141\n",
      " 30.52835867 30.0095802  47.87150349 54.84500259 36.3157795  33.32365794\n",
      " 43.55933413 34.70502797 51.62501521 39.67054932 29.70960009 43.28554956\n",
      " 20.71826948 21.92470594 45.61456902 27.72489878 54.84336658 54.02305187\n",
      " 19.1802887  43.55772095 20.41629514 32.39538437 23.30236931 15.47368525\n",
      " 44.89586274 29.34378959 29.63168335 28.56016581 51.27596287 37.82204064\n",
      " 30.97155711 31.93780042 44.74236264 51.19368456 29.2041779  41.6237636\n",
      " 36.54993863 41.95081894 40.91453076 21.39310536 30.14816904 39.07547554\n",
      " 44.30246996 42.25869972 36.15958058 50.43115677 57.11105177 37.73299416\n",
      " 31.32052293 19.40798087 44.04346462 45.04354092 16.79220203 45.34950359\n",
      " 34.72667724 31.76641905 24.7504156  19.36935161 28.39994263 30.12742557\n",
      " 51.71120619 22.95354252 32.12901623 46.65791143 26.62582252 20.0328795\n",
      " 26.7951954  31.16285367 21.60504219 49.86609326 31.16448639 28.870436\n",
      " 40.54254544 37.52360434 43.86227078 46.80795819 37.33866892 35.21829547\n",
      " 46.52564939 17.45384176 27.10651933 38.49621764 29.66796788 42.34113692\n",
      " 27.79737722 35.33929196 47.57829333 31.82880141 24.4021089  34.92369308\n",
      " 27.04516193 31.68255552 37.00639207 40.2444845  41.60703106 30.47730216\n",
      " 26.77651131 39.22746895 22.25182506 48.32841344 26.01150557 28.77631877\n",
      " 45.40958923 48.36267061 31.49174208 37.89632013 46.18826542 26.88399855\n",
      " 41.54965986 25.41822072 59.74510765 24.79423034 26.38425456 17.92036446\n",
      " 17.16063848 21.43860444 41.40097005 34.38335289 32.74914274 44.42750493\n",
      " 31.84692362 32.16670131 21.05080801 52.04902223 40.74351765 36.20867916\n",
      " 21.3268334  22.73220945 44.28952856 44.43620906 30.48964585 33.2229631\n",
      " 18.80777993 41.59411834 42.97723608 19.94985491 28.72734471 19.59213734\n",
      " 22.07335403 32.18157346 23.69378489 31.50326866 36.15065491 32.00629074\n",
      " 47.3437625  29.54731421 32.3548815  21.98094701 38.06646931 34.67338221\n",
      " 28.56394139 24.29568354 36.59556174 20.35865168 40.63609346 50.73012352\n",
      " 42.40923344 14.21518528 38.51561622 37.92737665 23.89024667 39.68477168\n",
      " 25.18648146 20.56771721 26.89414249 42.49820186 26.33929284 39.48376263\n",
      " 31.24661191 31.57713234 18.88226478 41.91228279 31.16495004 38.03555227\n",
      " 46.50148455 41.63185499 27.56390358 44.04346462 23.4704689  46.46451766\n",
      " 51.12171585 34.82760235 19.96803462 36.4204121  33.99482492 32.32328741\n",
      " 32.14454858 58.10187364 19.10453689 22.85516533 35.52821016 28.63737841\n",
      " 34.8383937  20.26589632 40.54052891 29.76593853 38.68712667 22.67084365\n",
      " 45.56087648 22.38261454 21.36019277 25.7272348  38.66853556 28.66160651\n",
      " 21.7768273  39.62510384 21.13696547 41.92017869 53.22010505 32.34469727\n",
      " 37.37944886 35.08646655 35.52657367 41.74737496 26.48566872 34.94934959\n",
      " 32.99960495 42.40728112 38.14602059 40.36495908 51.05719492 20.23076089\n",
      " 39.733919   27.96391402 35.20046038 33.59496918 30.31762117 59.41883225\n",
      " 48.0031842  40.01813854 39.10163408 34.1695354  26.20891107 25.69442294\n",
      " 43.97540677 26.38948231 40.62411362 16.01204307 14.73286577 46.09567109\n",
      " 40.77437634 35.38299861 41.56982906 23.37450095 31.24118889 17.98558757]\n"
     ]
    }
   ],
   "source": [
    "#Predict the test set\n",
    "y_pred_svr = svr.predict(X_test)\n",
    "print(y_pred_svr)"
   ]
  },
  {
   "cell_type": "code",
   "execution_count": 21,
   "metadata": {},
   "outputs": [
    {
     "data": {
      "image/png": "[encoded data removed]",
      "text/plain": [
       "<Figure size 432x288 with 1 Axes>"
      ]
     },
     "metadata": {
      "needs_background": "light"
     },
     "output_type": "display_data"
    }
   ],
   "source": [
    "#Plot the predictions\n",
    "plt.scatter(y_test, y_pred_svr, c='green')\n",
    "plt.plot(y_test, y_test, c='orange', lw=2)\n",
    "plt.xlabel(\"Predicted\")\n",
    "plt.ylabel(\"True\")\n",
    "plt.title(\"Support Vector Regressor\")\n",
    "plt.show()"
   ]
  },
  {
   "cell_type": "code",
   "execution_count": 22,
   "metadata": {},
   "outputs": [
    {
     "name": "stdout",
     "output_type": "stream",
     "text": [
      "Root mean squared error: 9.477665379964764\n",
      "R2 score: 0.6472808470962687\n"
     ]
    }
   ],
   "source": [
    "#Get RMSE, R2\n",
    "from sklearn.metrics import mean_squared_error, r2_score\n",
    "rmse = mean_squared_error(y_test, y_pred_svr, squared=False)\n",
    "r2 = r2_score(y_test, y_pred_svr)\n",
    "print(\"Root mean squared error:\", rmse)\n",
    "print(\"R2 score:\", r2)"
   ]
  },
  {
   "cell_type": "code",
   "execution_count": 23,
   "metadata": {},
   "outputs": [],
   "source": [
    "#Gather results into a dataframe\n",
    "model_results = pd.DataFrame([['SupportVectorRegression', rmse, r2]],\n",
    "                    columns = ['Model', 'RMSE', 'R2-Score'])\n",
    "results = results.append(model_results, ignore_index = True)"
   ]
  },
  {
   "cell_type": "markdown",
   "metadata": {},
   "source": [
    "# Support Vector Machines (Tuned Hyperparameters)"
   ]
  },
  {
   "cell_type": "code",
   "execution_count": 24,
   "metadata": {},
   "outputs": [
    {
     "data": {
      "text/plain": [
       "{'C': 9, 'epsilon': 0.1, 'gamma': 'auto', 'kernel': 'rbf'}"
      ]
     },
     "execution_count": 24,
     "metadata": {},
     "output_type": "execute_result"
    }
   ],
   "source": [
    "#Determines the best hyperparameters\n",
    "from sklearn.svm import SVR\n",
    "from sklearn.model_selection import GridSearchCV\n",
    "import decimal\n",
    "\n",
    "def float_range(start, stop, step):\n",
    "    while start < stop:\n",
    "        yield float(start)\n",
    "        start += decimal.Decimal(step)\n",
    "\n",
    "params = {'kernel':['linear', 'poly', 'rbf'], 'C': list(range(1, 10)), 'gamma':['auto'], 'epsilon': list(float_range(0, 1, '0.1'))}\n",
    "grid_search_cv = GridSearchCV(SVR(), params,  refit = False)\n",
    "grid_search_cv.fit(X_train, y_train)\n",
    "grid_search_cv.best_params_"
   ]
  },
  {
   "cell_type": "code",
   "execution_count": 25,
   "metadata": {},
   "outputs": [
    {
     "data": {
      "text/plain": [
       "SVR(C=9, gamma='auto')"
      ]
     },
     "execution_count": 25,
     "metadata": {},
     "output_type": "execute_result"
    }
   ],
   "source": [
    "#Train the support vector regression model\n",
    "from sklearn.svm import SVR\n",
    "svr = SVR(kernel='rbf', C=9, gamma='auto', epsilon=0.1)\n",
    "svr.fit(X_train, y_train)"
   ]
  },
  {
   "cell_type": "code",
   "execution_count": 26,
   "metadata": {},
   "outputs": [
    {
     "name": "stdout",
     "output_type": "stream",
     "text": [
      "[38.09207037 12.07027575 79.39672748 50.83254573 16.95461115 48.67159975\n",
      " 56.76599138 22.71163746 62.3288842  49.86646056 17.85074166 48.79354597\n",
      " 34.30199796 18.5996244  49.52326921 57.74922164 31.03798615 34.63346548\n",
      " 54.871657   35.44428798 57.37017186 28.17665202 29.69766292 54.02270563\n",
      " 18.80830323 23.09202089 55.140137   22.361091   57.76389016 68.76934419\n",
      " 18.33498826 49.72130721 19.34156171 36.04290416 21.65862023  9.35840415\n",
      " 47.97128217 24.6586733  23.65379991 26.08043331 54.12951337 42.34554795\n",
      " 27.67318107 34.4138296  60.01057974 48.05091224 27.00994024 45.02556069\n",
      " 35.00941506 50.4605105  42.8490729  21.39532305 25.61630684 41.81014657\n",
      " 53.45554559 42.32281341 38.94150193 48.82758894 62.2864455  43.99418836\n",
      " 33.88692697 17.67712915 47.19227869 51.1877548  11.95111489 50.22458238\n",
      " 37.83139722 25.95521395 13.2912473  16.71443588 21.550777   26.18212583\n",
      " 49.3012045  19.63269287 30.46356713 38.74059651 28.24787423 13.51647705\n",
      " 27.56063958 33.08977502 18.21956858 54.54297787 27.65658583 28.87242182\n",
      " 45.29175258 37.39728002 38.0039924  47.28244256 40.77734032 35.19616463\n",
      " 55.02610918 14.26384672 19.03122526 35.80418064 21.82273364 40.47693004\n",
      " 25.05640391 41.14097784 46.45922017 35.7040578  22.23534884 32.0252315\n",
      " 29.06660331 27.05718711 39.28271816 41.36591268 47.79471957 25.64692852\n",
      " 28.74200274 40.42192524 12.19845497 51.23467452 18.12253585 28.88430267\n",
      " 47.9970629  61.8459378  34.28493388 37.99835957 45.00250278 24.33405757\n",
      " 42.56391875 24.5120778  66.51202967 26.02257133 15.48143804 10.64916713\n",
      " 13.11375522 15.52862078 47.12716027 37.50071185 29.17577856 51.28122869\n",
      " 29.76394081 32.374609   11.54194072 56.42740564 45.19445676 36.54511974\n",
      " 13.29395734 13.58212872 40.13385715 50.76006809 25.36672837 36.57266152\n",
      " 16.57372402 31.44907228 38.41586119 16.55034764 29.80117256 17.6099744\n",
      " 18.88850541 21.05588502 22.13045788 34.29803932 38.45870295 33.97420941\n",
      " 43.22039948 28.07370956 33.2180011  21.39105579 38.37834725 29.13224849\n",
      " 14.48065424 26.19034996 35.50428313 11.11068673 46.58023023 48.46887026\n",
      " 51.67992234  8.36442543 45.87136288 40.17056643 24.00150538 40.42881669\n",
      " 20.44478674 15.76886547 12.71555011 41.18820866 26.72887589 43.28086067\n",
      " 23.06942703 26.92603913 15.41069366 45.30925731 29.81806549 43.48198405\n",
      " 44.27751492 44.75356358 21.98438524 47.19227869 23.9286428  58.99974572\n",
      " 54.95414228 37.58035129 13.12128322 42.80219912 36.77449016 32.08504361\n",
      " 34.91806013 68.99002121 17.17748014 22.62780933 33.79094762 28.08151306\n",
      " 37.95232513 17.37789673 41.05566044 31.93598629 45.95580457 19.22571664\n",
      " 51.39498162 19.31342144 16.60358371 22.91651759 45.36095059 23.87561893\n",
      " 21.2141027  37.73002761 19.49539081 42.08858193 59.23598904 23.83787114\n",
      " 40.82672695 34.9680161  33.71213065 44.80251863 24.46779132 38.9313888\n",
      " 24.70727187 47.2024172  34.90661477 37.68876789 52.91042756 20.52398665\n",
      " 39.85873296 25.52654762 37.92398417 33.07768754 23.95501338 69.38041296\n",
      " 55.68441856 47.07428712 41.7474203  27.91997411 24.69768806 18.2682965\n",
      " 37.94685763 28.05914066 47.56136472 11.08721371  9.39393586 49.63852637\n",
      " 41.07007117 34.70677431 42.14720438 20.56230699 27.53693207 13.62952256]\n"
     ]
    }
   ],
   "source": [
    "#Predict the test set\n",
    "y_pred_svr = svr.predict(X_test)\n",
    "print(y_pred_svr)"
   ]
  },
  {
   "cell_type": "code",
   "execution_count": 27,
   "metadata": {},
   "outputs": [
    {
     "data": {
      "image/png": "[encoded data removed]",
      "text/plain": [
       "<Figure size 432x288 with 1 Axes>"
      ]
     },
     "metadata": {
      "needs_background": "light"
     },
     "output_type": "display_data"
    }
   ],
   "source": [
    "#Plot the predictions\n",
    "plt.scatter(y_test, y_pred_svr, c='green')\n",
    "plt.plot(y_test, y_test, c='orange', lw=2)\n",
    "plt.xlabel(\"Predicted\")\n",
    "plt.ylabel(\"True\")\n",
    "plt.title(\"Support Vector Regressor (Tuned)\")\n",
    "plt.show()"
   ]
  },
  {
   "cell_type": "code",
   "execution_count": 28,
   "metadata": {},
   "outputs": [
    {
     "name": "stdout",
     "output_type": "stream",
     "text": [
      "Root mean squared error: 6.966603966542865\n",
      "R2 score: 0.8094238515827217\n"
     ]
    }
   ],
   "source": [
    "#Get RMSE, R2\n",
    "from sklearn.metrics import mean_squared_error, r2_score\n",
    "rmse = mean_squared_error(y_test, y_pred_svr, squared=False)\n",
    "r2 = r2_score(y_test, y_pred_svr)\n",
    "print(\"Root mean squared error:\", rmse)\n",
    "print(\"R2 score:\", r2)"
   ]
  },
  {
   "cell_type": "code",
   "execution_count": 29,
   "metadata": {},
   "outputs": [],
   "source": [
    "#Gather results into a dataframe\n",
    "model_results = pd.DataFrame([['TunedSupportVectorRegression', rmse, r2]],\n",
    "                    columns = ['Model', 'RMSE', 'R2-Score'])\n",
    "results = results.append(model_results, ignore_index = True)"
   ]
  },
  {
   "cell_type": "markdown",
   "metadata": {},
   "source": [
    "# Neural Network"
   ]
  },
  {
   "cell_type": "code",
   "execution_count": 30,
   "metadata": {},
   "outputs": [],
   "source": [
    "#Split the dataset into 25% test set and 75% training set\n",
    "from sklearn.model_selection import train_test_split\n",
    "X_train, X_test, y_train, y_test = train_test_split(X, y, test_size=0.25, random_state=0)"
   ]
  },
  {
   "cell_type": "code",
   "execution_count": 31,
   "metadata": {},
   "outputs": [],
   "source": [
    "#Apply feature scaling\n",
    "from sklearn.preprocessing import StandardScaler\n",
    "sc = StandardScaler()\n",
    "X_train = sc.fit_transform(X_train)\n",
    "X_test = sc.transform(X_test)"
   ]
  },
  {
   "cell_type": "code",
   "execution_count": 32,
   "metadata": {},
   "outputs": [],
   "source": [
    "#Initialising the ANN\n",
    "from keras.models import Sequential\n",
    "ann = Sequential()"
   ]
  },
  {
   "cell_type": "code",
   "execution_count": 33,
   "metadata": {},
   "outputs": [],
   "source": [
    "from keras.layers import Dense, BatchNormalization\n",
    "#Input layer and first hidden layer\n",
    "ann.add(Dense(units=32, kernel_initializer = 'uniform', activation='relu', input_dim=8))\n",
    "#hidden layers\n",
    "ann.add(Dense(units=16, kernel_initializer = 'uniform', activation='relu'))\n",
    "ann.add(BatchNormalization())\n",
    "#Output layer\n",
    "ann.add(Dense(units=1, activation='linear'))"
   ]
  },
  {
   "cell_type": "code",
   "execution_count": 34,
   "metadata": {},
   "outputs": [],
   "source": [
    "#Compile the model\n",
    "ann.compile(optimizer = 'adam', loss = 'mean_squared_error', metrics = ['mse'])"
   ]
  },
  {
   "cell_type": "code",
   "execution_count": 35,
   "metadata": {},
   "outputs": [
    {
     "name": "stdout",
     "output_type": "stream",
     "text": [
      "Epoch 1/100\n",
      "78/78 [==============================] - 1s 1ms/step - loss: 1529.6766 - mse: 1529.6766\n",
      "Epoch 2/100\n",
      "78/78 [==============================] - 0s 934us/step - loss: 1405.2803 - mse: 1405.2803\n",
      "Epoch 3/100\n",
      "78/78 [==============================] - 0s 902us/step - loss: 1290.6215 - mse: 1290.6215\n",
      "Epoch 4/100\n",
      "78/78 [==============================] - 0s 2ms/step - loss: 1170.1138 - mse: 1170.1138\n",
      "Epoch 5/100\n",
      "78/78 [==============================] - 0s 2ms/step - loss: 1041.4650 - mse: 1041.4650\n",
      "Epoch 6/100\n",
      "78/78 [==============================] - 0s 2ms/step - loss: 911.6763 - mse: 911.6763\n",
      "Epoch 7/100\n",
      "78/78 [==============================] - 0s 1ms/step - loss: 782.6592 - mse: 782.6592\n",
      "Epoch 8/100\n",
      "78/78 [==============================] - 0s 2ms/step - loss: 660.5762 - mse: 660.5762\n",
      "Epoch 9/100\n",
      "78/78 [==============================] - 0s 2ms/step - loss: 530.4836 - mse: 530.4836\n",
      "Epoch 10/100\n",
      "78/78 [==============================] - 0s 2ms/step - loss: 415.7902 - mse: 415.7902\n",
      "Epoch 11/100\n",
      "78/78 [==============================] - 0s 1ms/step - loss: 333.9763 - mse: 333.9763\n",
      "Epoch 12/100\n",
      "78/78 [==============================] - 0s 2ms/step - loss: 249.6033 - mse: 249.6033\n",
      "Epoch 13/100\n",
      "78/78 [==============================] - 0s 1ms/step - loss: 187.3625 - mse: 187.3625\n",
      "Epoch 14/100\n",
      "78/78 [==============================] - 0s 1ms/step - loss: 133.2647 - mse: 133.2647\n",
      "Epoch 15/100\n",
      "78/78 [==============================] - 0s 2ms/step - loss: 108.0733 - mse: 108.0733\n",
      "Epoch 16/100\n",
      "78/78 [==============================] - 0s 3ms/step - loss: 79.6034 - mse: 79.6034\n",
      "Epoch 17/100\n",
      "78/78 [==============================] - 0s 1ms/step - loss: 72.3375 - mse: 72.3375\n",
      "Epoch 18/100\n",
      "78/78 [==============================] - 0s 1ms/step - loss: 58.8323 - mse: 58.8323\n",
      "Epoch 19/100\n",
      "78/78 [==============================] - 0s 2ms/step - loss: 59.1273 - mse: 59.1273\n",
      "Epoch 20/100\n",
      "78/78 [==============================] - 0s 2ms/step - loss: 52.3313 - mse: 52.3313\n",
      "Epoch 21/100\n",
      "78/78 [==============================] - 0s 2ms/step - loss: 57.2557 - mse: 57.2557\n",
      "Epoch 22/100\n",
      "78/78 [==============================] - 0s 1ms/step - loss: 58.7975 - mse: 58.7975\n",
      "Epoch 23/100\n",
      "78/78 [==============================] - 0s 1ms/step - loss: 50.8131 - mse: 50.8132\n",
      "Epoch 24/100\n",
      "78/78 [==============================] - 0s 1ms/step - loss: 51.2196 - mse: 51.2196\n",
      "Epoch 25/100\n",
      "78/78 [==============================] - 0s 1ms/step - loss: 46.4005 - mse: 46.4005\n",
      "Epoch 26/100\n",
      "78/78 [==============================] - 0s 1ms/step - loss: 49.1308 - mse: 49.1308\n",
      "Epoch 27/100\n",
      "78/78 [==============================] - 0s 979us/step - loss: 49.5393 - mse: 49.5393\n",
      "Epoch 28/100\n",
      "78/78 [==============================] - 0s 1ms/step - loss: 51.3099 - mse: 51.3099\n",
      "Epoch 29/100\n",
      "78/78 [==============================] - 0s 1ms/step - loss: 51.9386 - mse: 51.9386\n",
      "Epoch 30/100\n",
      "78/78 [==============================] - 0s 1ms/step - loss: 40.5205 - mse: 40.5205\n",
      "Epoch 31/100\n",
      "78/78 [==============================] - 0s 1ms/step - loss: 54.3653 - mse: 54.3653\n",
      "Epoch 32/100\n",
      "78/78 [==============================] - 0s 1ms/step - loss: 56.6191 - mse: 56.6191\n",
      "Epoch 33/100\n",
      "78/78 [==============================] - 0s 1ms/step - loss: 53.1236 - mse: 53.1236\n",
      "Epoch 34/100\n",
      "78/78 [==============================] - 0s 986us/step - loss: 43.7882 - mse: 43.7882\n",
      "Epoch 35/100\n",
      "78/78 [==============================] - 0s 986us/step - loss: 52.0468 - mse: 52.0468\n",
      "Epoch 36/100\n",
      "78/78 [==============================] - 0s 1ms/step - loss: 52.1477 - mse: 52.1477\n",
      "Epoch 37/100\n",
      "78/78 [==============================] - 0s 992us/step - loss: 47.2875 - mse: 47.2875\n",
      "Epoch 38/100\n",
      "78/78 [==============================] - 0s 1ms/step - loss: 46.5964 - mse: 46.5964\n",
      "Epoch 39/100\n",
      "78/78 [==============================] - 0s 2ms/step - loss: 45.8006 - mse: 45.8006\n",
      "Epoch 40/100\n",
      "78/78 [==============================] - 0s 2ms/step - loss: 44.1127 - mse: 44.1127\n",
      "Epoch 41/100\n",
      "78/78 [==============================] - 0s 2ms/step - loss: 39.8983 - mse: 39.8983\n",
      "Epoch 42/100\n",
      "78/78 [==============================] - 0s 2ms/step - loss: 40.3965 - mse: 40.3965\n",
      "Epoch 43/100\n",
      "78/78 [==============================] - 0s 1ms/step - loss: 47.4779 - mse: 47.4779\n",
      "Epoch 44/100\n",
      "78/78 [==============================] - 0s 2ms/step - loss: 47.4090 - mse: 47.4090\n",
      "Epoch 45/100\n",
      "78/78 [==============================] - 0s 1ms/step - loss: 44.1910 - mse: 44.1910\n",
      "Epoch 46/100\n",
      "78/78 [==============================] - 0s 1ms/step - loss: 41.8526 - mse: 41.8526\n",
      "Epoch 47/100\n",
      "78/78 [==============================] - 0s 1ms/step - loss: 43.6551 - mse: 43.6551\n",
      "Epoch 48/100\n",
      "78/78 [==============================] - 0s 1ms/step - loss: 41.5588 - mse: 41.5588\n",
      "Epoch 49/100\n",
      "78/78 [==============================] - 0s 1ms/step - loss: 44.9132 - mse: 44.9132\n",
      "Epoch 50/100\n",
      "78/78 [==============================] - 0s 1ms/step - loss: 46.0635 - mse: 46.0635\n",
      "Epoch 51/100\n",
      "78/78 [==============================] - 0s 2ms/step - loss: 44.6347 - mse: 44.6347\n",
      "Epoch 52/100\n",
      "78/78 [==============================] - 0s 1ms/step - loss: 41.9331 - mse: 41.9331\n",
      "Epoch 53/100\n",
      "78/78 [==============================] - 0s 1ms/step - loss: 45.6797 - mse: 45.6797\n",
      "Epoch 54/100\n",
      "78/78 [==============================] - 0s 1ms/step - loss: 43.2256 - mse: 43.2256\n",
      "Epoch 55/100\n",
      "78/78 [==============================] - 0s 1ms/step - loss: 49.9131 - mse: 49.9131\n",
      "Epoch 56/100\n",
      "78/78 [==============================] - 0s 1ms/step - loss: 51.8257 - mse: 51.8257\n",
      "Epoch 57/100\n",
      "78/78 [==============================] - 0s 1ms/step - loss: 58.2048 - mse: 58.2048\n",
      "Epoch 58/100\n",
      "78/78 [==============================] - 0s 1ms/step - loss: 50.3188 - mse: 50.3188\n",
      "Epoch 59/100\n",
      "78/78 [==============================] - 0s 966us/step - loss: 48.4353 - mse: 48.4353\n",
      "Epoch 60/100\n",
      "78/78 [==============================] - 0s 1ms/step - loss: 41.0389 - mse: 41.0389\n",
      "Epoch 61/100\n",
      "78/78 [==============================] - 0s 1ms/step - loss: 47.8657 - mse: 47.8657\n",
      "Epoch 62/100\n",
      "78/78 [==============================] - 0s 953us/step - loss: 46.9699 - mse: 46.9699\n",
      "Epoch 63/100\n",
      "78/78 [==============================] - 0s 1ms/step - loss: 43.6392 - mse: 43.6392\n",
      "Epoch 64/100\n",
      "78/78 [==============================] - 0s 1ms/step - loss: 46.3876 - mse: 46.3876\n",
      "Epoch 65/100\n",
      "78/78 [==============================] - 0s 973us/step - loss: 46.2309 - mse: 46.2309\n",
      "Epoch 66/100\n",
      "78/78 [==============================] - 0s 986us/step - loss: 39.7725 - mse: 39.7725\n",
      "Epoch 67/100\n",
      "78/78 [==============================] - 0s 1ms/step - loss: 45.1369 - mse: 45.1369\n",
      "Epoch 68/100\n",
      "78/78 [==============================] - 0s 973us/step - loss: 52.8455 - mse: 52.8455\n",
      "Epoch 69/100\n",
      "78/78 [==============================] - 0s 986us/step - loss: 40.9595 - mse: 40.9595\n",
      "Epoch 70/100\n",
      "78/78 [==============================] - 0s 2ms/step - loss: 42.4517 - mse: 42.4517\n",
      "Epoch 71/100\n",
      "78/78 [==============================] - 0s 2ms/step - loss: 49.0848 - mse: 49.0848\n",
      "Epoch 72/100\n",
      "78/78 [==============================] - 0s 3ms/step - loss: 47.0482 - mse: 47.0482\n",
      "Epoch 73/100\n",
      "78/78 [==============================] - 0s 1ms/step - loss: 41.1737 - mse: 41.1737\n",
      "Epoch 74/100\n",
      "78/78 [==============================] - 0s 1ms/step - loss: 47.7052 - mse: 47.7052\n",
      "Epoch 75/100\n",
      "78/78 [==============================] - 0s 1ms/step - loss: 41.2791 - mse: 41.2791\n",
      "Epoch 76/100\n",
      "78/78 [==============================] - 0s 1ms/step - loss: 54.1563 - mse: 54.1563\n",
      "Epoch 77/100\n",
      "78/78 [==============================] - 0s 1ms/step - loss: 42.2339 - mse: 42.2339\n",
      "Epoch 78/100\n",
      "78/78 [==============================] - 0s 2ms/step - loss: 39.8617 - mse: 39.8617\n",
      "Epoch 79/100\n",
      "78/78 [==============================] - 0s 2ms/step - loss: 40.1674 - mse: 40.1674\n",
      "Epoch 80/100\n",
      "78/78 [==============================] - 0s 1ms/step - loss: 47.8110 - mse: 47.8110\n",
      "Epoch 81/100\n",
      "78/78 [==============================] - 0s 1ms/step - loss: 41.1935 - mse: 41.1935\n",
      "Epoch 82/100\n",
      "78/78 [==============================] - 0s 1ms/step - loss: 39.7705 - mse: 39.7705\n",
      "Epoch 83/100\n",
      "78/78 [==============================] - 0s 940us/step - loss: 48.3189 - mse: 48.3189\n",
      "Epoch 84/100\n",
      "78/78 [==============================] - 0s 1ms/step - loss: 50.4055 - mse: 50.4055\n",
      "Epoch 85/100\n",
      "78/78 [==============================] - 0s 1ms/step - loss: 41.4736 - mse: 41.4736\n",
      "Epoch 86/100\n",
      "78/78 [==============================] - 0s 966us/step - loss: 38.5170 - mse: 38.5170\n",
      "Epoch 87/100\n",
      "78/78 [==============================] - 0s 966us/step - loss: 38.1888 - mse: 38.1888\n",
      "Epoch 88/100\n",
      "78/78 [==============================] - 0s 1ms/step - loss: 33.2686 - mse: 33.2686\n",
      "Epoch 89/100\n",
      "78/78 [==============================] - 0s 1ms/step - loss: 47.8499 - mse: 47.8499\n",
      "Epoch 90/100\n",
      "78/78 [==============================] - 0s 2ms/step - loss: 45.7971 - mse: 45.7971A: 0s - loss: 63.5930 - mse: 63.5\n",
      "Epoch 91/100\n",
      "78/78 [==============================] - ETA: 0s - loss: 42.9081 - mse: 42.908 - 0s 2ms/step - loss: 41.3930 - mse: 41.3930\n",
      "Epoch 92/100\n",
      "78/78 [==============================] - 0s 1ms/step - loss: 46.0215 - mse: 46.0215\n",
      "Epoch 93/100\n",
      "78/78 [==============================] - 0s 1ms/step - loss: 37.8922 - mse: 37.8922\n",
      "Epoch 94/100\n",
      "78/78 [==============================] - 0s 1ms/step - loss: 43.9965 - mse: 43.9965\n",
      "Epoch 95/100\n",
      "78/78 [==============================] - 0s 1ms/step - loss: 39.6960 - mse: 39.6960\n",
      "Epoch 96/100\n",
      "78/78 [==============================] - 0s 1ms/step - loss: 36.5837 - mse: 36.5837\n",
      "Epoch 97/100\n",
      "78/78 [==============================] - 0s 998us/step - loss: 38.8127 - mse: 38.8127\n",
      "Epoch 98/100\n",
      "78/78 [==============================] - 0s 1ms/step - loss: 36.0428 - mse: 36.0428\n",
      "Epoch 99/100\n",
      "78/78 [==============================] - 0s 940us/step - loss: 42.6450 - mse: 42.6450\n",
      "Epoch 100/100\n",
      "78/78 [==============================] - 0s 966us/step - loss: 37.7516 - mse: 37.7516\n"
     ]
    },
    {
     "data": {
      "text/plain": [
       "<keras.callbacks.History at 0x20dea105610>"
      ]
     },
     "execution_count": 35,
     "metadata": {},
     "output_type": "execute_result"
    }
   ],
   "source": [
    "#Fit the model\n",
    "ann.fit(X_train, y_train, batch_size = 10, epochs = 100)"
   ]
  },
  {
   "cell_type": "code",
   "execution_count": 36,
   "metadata": {},
   "outputs": [
    {
     "name": "stdout",
     "output_type": "stream",
     "text": [
      "9/9 [==============================] - 0s 2ms/step - loss: 28.9887 - mse: 28.9887\n"
     ]
    },
    {
     "data": {
      "text/plain": [
       "[28.988740921020508, 28.988740921020508]"
      ]
     },
     "execution_count": 36,
     "metadata": {},
     "output_type": "execute_result"
    }
   ],
   "source": [
    "#Get the generalization error\n",
    "ann.evaluate(X_test, y_test)"
   ]
  },
  {
   "cell_type": "code",
   "execution_count": 37,
   "metadata": {},
   "outputs": [],
   "source": [
    "#Predict the test set\n",
    "y_pred_ann = ann.predict(X_test)"
   ]
  },
  {
   "cell_type": "code",
   "execution_count": 38,
   "metadata": {},
   "outputs": [
    {
     "data": {
      "image/png": "[encoded data removed]",
      "text/plain": [
       "<Figure size 432x288 with 1 Axes>"
      ]
     },
     "metadata": {
      "needs_background": "light"
     },
     "output_type": "display_data"
    }
   ],
   "source": [
    "#Plot the predictions\n",
    "plt.scatter(y_test, y_pred_ann, c='purple')\n",
    "plt.plot(y_test, y_test, c='orange', lw=2)\n",
    "plt.xlabel(\"Predicted\")\n",
    "plt.ylabel(\"True\")\n",
    "plt.title(\"Neural Network\")\n",
    "plt.show()"
   ]
  },
  {
   "cell_type": "code",
   "execution_count": 39,
   "metadata": {},
   "outputs": [
    {
     "name": "stdout",
     "output_type": "stream",
     "text": [
      "Root mean squared error: 5.384119423938778\n",
      "R2 score: 0.8861702797003639\n"
     ]
    }
   ],
   "source": [
    "#Get RMSE, R2\n",
    "from sklearn.metrics import mean_squared_error, r2_score\n",
    "rmse = mean_squared_error(y_test, y_pred_ann, squared=False)\n",
    "r2 = r2_score(y_test, y_pred_ann)\n",
    "print(\"Root mean squared error:\", rmse)\n",
    "print(\"R2 score:\", r2)"
   ]
  },
  {
   "cell_type": "code",
   "execution_count": 40,
   "metadata": {},
   "outputs": [
    {
     "data": {
      "text/html": [
       "<div>\n",
       "<style scoped>\n",
       "    .dataframe tbody tr th:only-of-type {\n",
       "        vertical-align: middle;\n",
       "    }\n",
       "\n",
       "    .dataframe tbody tr th {\n",
       "        vertical-align: top;\n",
       "    }\n",
       "\n",
       "    .dataframe thead th {\n",
       "        text-align: right;\n",
       "    }\n",
       "</style>\n",
       "<table border=\"1\" class=\"dataframe\">\n",
       "  <thead>\n",
       "    <tr style=\"text-align: right;\">\n",
       "      <th></th>\n",
       "      <th>Model</th>\n",
       "      <th>RMSE</th>\n",
       "      <th>R2-Score</th>\n",
       "    </tr>\n",
       "  </thead>\n",
       "  <tbody>\n",
       "    <tr>\n",
       "      <th>0</th>\n",
       "      <td>LinearRegression</td>\n",
       "      <td>9.793066</td>\n",
       "      <td>0.623414</td>\n",
       "    </tr>\n",
       "    <tr>\n",
       "      <th>1</th>\n",
       "      <td>RidgeRegression</td>\n",
       "      <td>9.788387</td>\n",
       "      <td>0.623774</td>\n",
       "    </tr>\n",
       "    <tr>\n",
       "      <th>2</th>\n",
       "      <td>SupportVectorRegression</td>\n",
       "      <td>9.477665</td>\n",
       "      <td>0.647281</td>\n",
       "    </tr>\n",
       "    <tr>\n",
       "      <th>3</th>\n",
       "      <td>TunedSupportVectorRegression</td>\n",
       "      <td>6.966604</td>\n",
       "      <td>0.809424</td>\n",
       "    </tr>\n",
       "    <tr>\n",
       "      <th>4</th>\n",
       "      <td>NeuralNetwork</td>\n",
       "      <td>5.384119</td>\n",
       "      <td>0.886170</td>\n",
       "    </tr>\n",
       "  </tbody>\n",
       "</table>\n",
       "</div>"
      ],
      "text/plain": [
       "                          Model      RMSE  R2-Score\n",
       "0              LinearRegression  9.793066  0.623414\n",
       "1               RidgeRegression  9.788387  0.623774\n",
       "2       SupportVectorRegression  9.477665  0.647281\n",
       "3  TunedSupportVectorRegression  6.966604  0.809424\n",
       "4                 NeuralNetwork  5.384119  0.886170"
      ]
     },
     "execution_count": 40,
     "metadata": {},
     "output_type": "execute_result"
    }
   ],
   "source": [
    "#Gather results into a dataframe\n",
    "model_results = pd.DataFrame([['NeuralNetwork', rmse, r2]],\n",
    "                    columns = ['Model', 'RMSE', 'R2-Score'])\n",
    "results = results.append(model_results, ignore_index = True)\n",
    "results"
   ]
  }
 ],
 "metadata": {
  "interpreter": {
   "hash": "533e98f5e8b84dc248a9ac5019554f88a2a445e6fff339af924c1909d9276bb8"
  },
  "kernelspec": {
   "display_name": "Python 3.9.1 64-bit",
   "language": "python",
   "name": "python3"
  },
  "language_info": {
   "codemirror_mode": {
    "name": "ipython",
    "version": 3
   },
   "file_extension": ".py",
   "mimetype": "text/x-python",
   "name": "python",
   "nbconvert_exporter": "python",
   "pygments_lexer": "ipython3",
   "version": "3.9.1"
  },
  "metadata": {
   "interpreter": {
    "hash": "533e98f5e8b84dc248a9ac5019554f88a2a445e6fff339af924c1909d9276bb8"
   }
  },
  "orig_nbformat": 2
 },
 "nbformat": 4,
 "nbformat_minor": 2
}
