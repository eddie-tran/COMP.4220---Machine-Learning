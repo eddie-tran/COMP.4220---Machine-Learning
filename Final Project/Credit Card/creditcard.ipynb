{
 "cells": [
  {
   "cell_type": "markdown",
   "metadata": {},
   "source": [
    "# Credit Card Fraud Detection"
   ]
  },
  {
   "cell_type": "code",
   "execution_count": 1,
   "metadata": {},
   "outputs": [],
   "source": [
    "#Import libraries\n",
    "import pandas as pd\n",
    "import numpy as np\n",
    "import matplotlib.pyplot as plt\n",
    "import seaborn as sns"
   ]
  },
  {
   "cell_type": "markdown",
   "metadata": {},
   "source": [
    "# Data Processing"
   ]
  },
  {
   "cell_type": "code",
   "execution_count": 2,
   "metadata": {},
   "outputs": [
    {
     "data": {
      "text/html": [
       "<div>\n",
       "<style scoped>\n",
       "    .dataframe tbody tr th:only-of-type {\n",
       "        vertical-align: middle;\n",
       "    }\n",
       "\n",
       "    .dataframe tbody tr th {\n",
       "        vertical-align: top;\n",
       "    }\n",
       "\n",
       "    .dataframe thead th {\n",
       "        text-align: right;\n",
       "    }\n",
       "</style>\n",
       "<table border=\"1\" class=\"dataframe\">\n",
       "  <thead>\n",
       "    <tr style=\"text-align: right;\">\n",
       "      <th></th>\n",
       "      <th>Time</th>\n",
       "      <th>V1</th>\n",
       "      <th>V2</th>\n",
       "      <th>V3</th>\n",
       "      <th>V4</th>\n",
       "      <th>V5</th>\n",
       "      <th>V6</th>\n",
       "      <th>V7</th>\n",
       "      <th>V8</th>\n",
       "      <th>V9</th>\n",
       "      <th>...</th>\n",
       "      <th>V21</th>\n",
       "      <th>V22</th>\n",
       "      <th>V23</th>\n",
       "      <th>V24</th>\n",
       "      <th>V25</th>\n",
       "      <th>V26</th>\n",
       "      <th>V27</th>\n",
       "      <th>V28</th>\n",
       "      <th>Amount</th>\n",
       "      <th>Class</th>\n",
       "    </tr>\n",
       "  </thead>\n",
       "  <tbody>\n",
       "    <tr>\n",
       "      <th>0</th>\n",
       "      <td>0.0</td>\n",
       "      <td>-1.359807</td>\n",
       "      <td>-0.072781</td>\n",
       "      <td>2.536347</td>\n",
       "      <td>1.378155</td>\n",
       "      <td>-0.338321</td>\n",
       "      <td>0.462388</td>\n",
       "      <td>0.239599</td>\n",
       "      <td>0.098698</td>\n",
       "      <td>0.363787</td>\n",
       "      <td>...</td>\n",
       "      <td>-0.018307</td>\n",
       "      <td>0.277838</td>\n",
       "      <td>-0.110474</td>\n",
       "      <td>0.066928</td>\n",
       "      <td>0.128539</td>\n",
       "      <td>-0.189115</td>\n",
       "      <td>0.133558</td>\n",
       "      <td>-0.021053</td>\n",
       "      <td>149.62</td>\n",
       "      <td>0</td>\n",
       "    </tr>\n",
       "    <tr>\n",
       "      <th>1</th>\n",
       "      <td>0.0</td>\n",
       "      <td>1.191857</td>\n",
       "      <td>0.266151</td>\n",
       "      <td>0.166480</td>\n",
       "      <td>0.448154</td>\n",
       "      <td>0.060018</td>\n",
       "      <td>-0.082361</td>\n",
       "      <td>-0.078803</td>\n",
       "      <td>0.085102</td>\n",
       "      <td>-0.255425</td>\n",
       "      <td>...</td>\n",
       "      <td>-0.225775</td>\n",
       "      <td>-0.638672</td>\n",
       "      <td>0.101288</td>\n",
       "      <td>-0.339846</td>\n",
       "      <td>0.167170</td>\n",
       "      <td>0.125895</td>\n",
       "      <td>-0.008983</td>\n",
       "      <td>0.014724</td>\n",
       "      <td>2.69</td>\n",
       "      <td>0</td>\n",
       "    </tr>\n",
       "    <tr>\n",
       "      <th>2</th>\n",
       "      <td>1.0</td>\n",
       "      <td>-1.358354</td>\n",
       "      <td>-1.340163</td>\n",
       "      <td>1.773209</td>\n",
       "      <td>0.379780</td>\n",
       "      <td>-0.503198</td>\n",
       "      <td>1.800499</td>\n",
       "      <td>0.791461</td>\n",
       "      <td>0.247676</td>\n",
       "      <td>-1.514654</td>\n",
       "      <td>...</td>\n",
       "      <td>0.247998</td>\n",
       "      <td>0.771679</td>\n",
       "      <td>0.909412</td>\n",
       "      <td>-0.689281</td>\n",
       "      <td>-0.327642</td>\n",
       "      <td>-0.139097</td>\n",
       "      <td>-0.055353</td>\n",
       "      <td>-0.059752</td>\n",
       "      <td>378.66</td>\n",
       "      <td>0</td>\n",
       "    </tr>\n",
       "    <tr>\n",
       "      <th>3</th>\n",
       "      <td>1.0</td>\n",
       "      <td>-0.966272</td>\n",
       "      <td>-0.185226</td>\n",
       "      <td>1.792993</td>\n",
       "      <td>-0.863291</td>\n",
       "      <td>-0.010309</td>\n",
       "      <td>1.247203</td>\n",
       "      <td>0.237609</td>\n",
       "      <td>0.377436</td>\n",
       "      <td>-1.387024</td>\n",
       "      <td>...</td>\n",
       "      <td>-0.108300</td>\n",
       "      <td>0.005274</td>\n",
       "      <td>-0.190321</td>\n",
       "      <td>-1.175575</td>\n",
       "      <td>0.647376</td>\n",
       "      <td>-0.221929</td>\n",
       "      <td>0.062723</td>\n",
       "      <td>0.061458</td>\n",
       "      <td>123.50</td>\n",
       "      <td>0</td>\n",
       "    </tr>\n",
       "    <tr>\n",
       "      <th>4</th>\n",
       "      <td>2.0</td>\n",
       "      <td>-1.158233</td>\n",
       "      <td>0.877737</td>\n",
       "      <td>1.548718</td>\n",
       "      <td>0.403034</td>\n",
       "      <td>-0.407193</td>\n",
       "      <td>0.095921</td>\n",
       "      <td>0.592941</td>\n",
       "      <td>-0.270533</td>\n",
       "      <td>0.817739</td>\n",
       "      <td>...</td>\n",
       "      <td>-0.009431</td>\n",
       "      <td>0.798278</td>\n",
       "      <td>-0.137458</td>\n",
       "      <td>0.141267</td>\n",
       "      <td>-0.206010</td>\n",
       "      <td>0.502292</td>\n",
       "      <td>0.219422</td>\n",
       "      <td>0.215153</td>\n",
       "      <td>69.99</td>\n",
       "      <td>0</td>\n",
       "    </tr>\n",
       "    <tr>\n",
       "      <th>...</th>\n",
       "      <td>...</td>\n",
       "      <td>...</td>\n",
       "      <td>...</td>\n",
       "      <td>...</td>\n",
       "      <td>...</td>\n",
       "      <td>...</td>\n",
       "      <td>...</td>\n",
       "      <td>...</td>\n",
       "      <td>...</td>\n",
       "      <td>...</td>\n",
       "      <td>...</td>\n",
       "      <td>...</td>\n",
       "      <td>...</td>\n",
       "      <td>...</td>\n",
       "      <td>...</td>\n",
       "      <td>...</td>\n",
       "      <td>...</td>\n",
       "      <td>...</td>\n",
       "      <td>...</td>\n",
       "      <td>...</td>\n",
       "      <td>...</td>\n",
       "    </tr>\n",
       "    <tr>\n",
       "      <th>284802</th>\n",
       "      <td>172786.0</td>\n",
       "      <td>-11.881118</td>\n",
       "      <td>10.071785</td>\n",
       "      <td>-9.834783</td>\n",
       "      <td>-2.066656</td>\n",
       "      <td>-5.364473</td>\n",
       "      <td>-2.606837</td>\n",
       "      <td>-4.918215</td>\n",
       "      <td>7.305334</td>\n",
       "      <td>1.914428</td>\n",
       "      <td>...</td>\n",
       "      <td>0.213454</td>\n",
       "      <td>0.111864</td>\n",
       "      <td>1.014480</td>\n",
       "      <td>-0.509348</td>\n",
       "      <td>1.436807</td>\n",
       "      <td>0.250034</td>\n",
       "      <td>0.943651</td>\n",
       "      <td>0.823731</td>\n",
       "      <td>0.77</td>\n",
       "      <td>0</td>\n",
       "    </tr>\n",
       "    <tr>\n",
       "      <th>284803</th>\n",
       "      <td>172787.0</td>\n",
       "      <td>-0.732789</td>\n",
       "      <td>-0.055080</td>\n",
       "      <td>2.035030</td>\n",
       "      <td>-0.738589</td>\n",
       "      <td>0.868229</td>\n",
       "      <td>1.058415</td>\n",
       "      <td>0.024330</td>\n",
       "      <td>0.294869</td>\n",
       "      <td>0.584800</td>\n",
       "      <td>...</td>\n",
       "      <td>0.214205</td>\n",
       "      <td>0.924384</td>\n",
       "      <td>0.012463</td>\n",
       "      <td>-1.016226</td>\n",
       "      <td>-0.606624</td>\n",
       "      <td>-0.395255</td>\n",
       "      <td>0.068472</td>\n",
       "      <td>-0.053527</td>\n",
       "      <td>24.79</td>\n",
       "      <td>0</td>\n",
       "    </tr>\n",
       "    <tr>\n",
       "      <th>284804</th>\n",
       "      <td>172788.0</td>\n",
       "      <td>1.919565</td>\n",
       "      <td>-0.301254</td>\n",
       "      <td>-3.249640</td>\n",
       "      <td>-0.557828</td>\n",
       "      <td>2.630515</td>\n",
       "      <td>3.031260</td>\n",
       "      <td>-0.296827</td>\n",
       "      <td>0.708417</td>\n",
       "      <td>0.432454</td>\n",
       "      <td>...</td>\n",
       "      <td>0.232045</td>\n",
       "      <td>0.578229</td>\n",
       "      <td>-0.037501</td>\n",
       "      <td>0.640134</td>\n",
       "      <td>0.265745</td>\n",
       "      <td>-0.087371</td>\n",
       "      <td>0.004455</td>\n",
       "      <td>-0.026561</td>\n",
       "      <td>67.88</td>\n",
       "      <td>0</td>\n",
       "    </tr>\n",
       "    <tr>\n",
       "      <th>284805</th>\n",
       "      <td>172788.0</td>\n",
       "      <td>-0.240440</td>\n",
       "      <td>0.530483</td>\n",
       "      <td>0.702510</td>\n",
       "      <td>0.689799</td>\n",
       "      <td>-0.377961</td>\n",
       "      <td>0.623708</td>\n",
       "      <td>-0.686180</td>\n",
       "      <td>0.679145</td>\n",
       "      <td>0.392087</td>\n",
       "      <td>...</td>\n",
       "      <td>0.265245</td>\n",
       "      <td>0.800049</td>\n",
       "      <td>-0.163298</td>\n",
       "      <td>0.123205</td>\n",
       "      <td>-0.569159</td>\n",
       "      <td>0.546668</td>\n",
       "      <td>0.108821</td>\n",
       "      <td>0.104533</td>\n",
       "      <td>10.00</td>\n",
       "      <td>0</td>\n",
       "    </tr>\n",
       "    <tr>\n",
       "      <th>284806</th>\n",
       "      <td>172792.0</td>\n",
       "      <td>-0.533413</td>\n",
       "      <td>-0.189733</td>\n",
       "      <td>0.703337</td>\n",
       "      <td>-0.506271</td>\n",
       "      <td>-0.012546</td>\n",
       "      <td>-0.649617</td>\n",
       "      <td>1.577006</td>\n",
       "      <td>-0.414650</td>\n",
       "      <td>0.486180</td>\n",
       "      <td>...</td>\n",
       "      <td>0.261057</td>\n",
       "      <td>0.643078</td>\n",
       "      <td>0.376777</td>\n",
       "      <td>0.008797</td>\n",
       "      <td>-0.473649</td>\n",
       "      <td>-0.818267</td>\n",
       "      <td>-0.002415</td>\n",
       "      <td>0.013649</td>\n",
       "      <td>217.00</td>\n",
       "      <td>0</td>\n",
       "    </tr>\n",
       "  </tbody>\n",
       "</table>\n",
       "<p>284807 rows × 31 columns</p>\n",
       "</div>"
      ],
      "text/plain": [
       "            Time         V1         V2        V3        V4        V5  \\\n",
       "0            0.0  -1.359807  -0.072781  2.536347  1.378155 -0.338321   \n",
       "1            0.0   1.191857   0.266151  0.166480  0.448154  0.060018   \n",
       "2            1.0  -1.358354  -1.340163  1.773209  0.379780 -0.503198   \n",
       "3            1.0  -0.966272  -0.185226  1.792993 -0.863291 -0.010309   \n",
       "4            2.0  -1.158233   0.877737  1.548718  0.403034 -0.407193   \n",
       "...          ...        ...        ...       ...       ...       ...   \n",
       "284802  172786.0 -11.881118  10.071785 -9.834783 -2.066656 -5.364473   \n",
       "284803  172787.0  -0.732789  -0.055080  2.035030 -0.738589  0.868229   \n",
       "284804  172788.0   1.919565  -0.301254 -3.249640 -0.557828  2.630515   \n",
       "284805  172788.0  -0.240440   0.530483  0.702510  0.689799 -0.377961   \n",
       "284806  172792.0  -0.533413  -0.189733  0.703337 -0.506271 -0.012546   \n",
       "\n",
       "              V6        V7        V8        V9  ...       V21       V22  \\\n",
       "0       0.462388  0.239599  0.098698  0.363787  ... -0.018307  0.277838   \n",
       "1      -0.082361 -0.078803  0.085102 -0.255425  ... -0.225775 -0.638672   \n",
       "2       1.800499  0.791461  0.247676 -1.514654  ...  0.247998  0.771679   \n",
       "3       1.247203  0.237609  0.377436 -1.387024  ... -0.108300  0.005274   \n",
       "4       0.095921  0.592941 -0.270533  0.817739  ... -0.009431  0.798278   \n",
       "...          ...       ...       ...       ...  ...       ...       ...   \n",
       "284802 -2.606837 -4.918215  7.305334  1.914428  ...  0.213454  0.111864   \n",
       "284803  1.058415  0.024330  0.294869  0.584800  ...  0.214205  0.924384   \n",
       "284804  3.031260 -0.296827  0.708417  0.432454  ...  0.232045  0.578229   \n",
       "284805  0.623708 -0.686180  0.679145  0.392087  ...  0.265245  0.800049   \n",
       "284806 -0.649617  1.577006 -0.414650  0.486180  ...  0.261057  0.643078   \n",
       "\n",
       "             V23       V24       V25       V26       V27       V28  Amount  \\\n",
       "0      -0.110474  0.066928  0.128539 -0.189115  0.133558 -0.021053  149.62   \n",
       "1       0.101288 -0.339846  0.167170  0.125895 -0.008983  0.014724    2.69   \n",
       "2       0.909412 -0.689281 -0.327642 -0.139097 -0.055353 -0.059752  378.66   \n",
       "3      -0.190321 -1.175575  0.647376 -0.221929  0.062723  0.061458  123.50   \n",
       "4      -0.137458  0.141267 -0.206010  0.502292  0.219422  0.215153   69.99   \n",
       "...          ...       ...       ...       ...       ...       ...     ...   \n",
       "284802  1.014480 -0.509348  1.436807  0.250034  0.943651  0.823731    0.77   \n",
       "284803  0.012463 -1.016226 -0.606624 -0.395255  0.068472 -0.053527   24.79   \n",
       "284804 -0.037501  0.640134  0.265745 -0.087371  0.004455 -0.026561   67.88   \n",
       "284805 -0.163298  0.123205 -0.569159  0.546668  0.108821  0.104533   10.00   \n",
       "284806  0.376777  0.008797 -0.473649 -0.818267 -0.002415  0.013649  217.00   \n",
       "\n",
       "        Class  \n",
       "0           0  \n",
       "1           0  \n",
       "2           0  \n",
       "3           0  \n",
       "4           0  \n",
       "...       ...  \n",
       "284802      0  \n",
       "284803      0  \n",
       "284804      0  \n",
       "284805      0  \n",
       "284806      0  \n",
       "\n",
       "[284807 rows x 31 columns]"
      ]
     },
     "execution_count": 2,
     "metadata": {},
     "output_type": "execute_result"
    }
   ],
   "source": [
    "#Import dataset\n",
    "dataset = pd.read_csv('creditcard.csv')\n",
    "dataset"
   ]
  },
  {
   "cell_type": "code",
   "execution_count": 3,
   "metadata": {},
   "outputs": [
    {
     "name": "stdout",
     "output_type": "stream",
     "text": [
      "Fraud Cases: 492\n",
      "Non-Fraud Cases: 284315\n"
     ]
    }
   ],
   "source": [
    "#Print the number of fraud and Non-fraud\n",
    "print('Fraud Cases:', len(dataset[dataset['Class'] == 1]))\n",
    "print('Non-Fraud Cases:', len(dataset[dataset['Class'] == 0]))"
   ]
  },
  {
   "cell_type": "code",
   "execution_count": 4,
   "metadata": {},
   "outputs": [
    {
     "name": "stdout",
     "output_type": "stream",
     "text": [
      "(284807, 30)\n",
      "(284807,)\n"
     ]
    }
   ],
   "source": [
    "#X: read all but \"Class\"\n",
    "#Y: read only \"Class\"\n",
    "X = dataset.iloc[:, :-1].values\n",
    "y = dataset['Class'].values\n",
    "print(X.shape)\n",
    "print(y.shape)"
   ]
  },
  {
   "cell_type": "code",
   "execution_count": 5,
   "metadata": {},
   "outputs": [],
   "source": [
    "#Split the dataset into 25% test_size and 75% training_size\n",
    "from sklearn.model_selection import train_test_split\n",
    "X_train, X_test, y_train, y_test = train_test_split(X, y, test_size=0.25, random_state=0)"
   ]
  },
  {
   "cell_type": "code",
   "execution_count": 6,
   "metadata": {},
   "outputs": [],
   "source": [
    "#Apply feature scaling\n",
    "from sklearn.preprocessing import StandardScaler\n",
    "sc = StandardScaler()\n",
    "X_train = sc.fit_transform(X_train)\n",
    "X_test = sc.transform(X_test)"
   ]
  },
  {
   "cell_type": "markdown",
   "metadata": {},
   "source": [
    "# Logistics Regression"
   ]
  },
  {
   "cell_type": "code",
   "execution_count": 7,
   "metadata": {},
   "outputs": [
    {
     "data": {
      "text/plain": [
       "LogisticRegression(random_state=0)"
      ]
     },
     "execution_count": 7,
     "metadata": {},
     "output_type": "execute_result"
    }
   ],
   "source": [
    "#Train the logistic regression model\n",
    "from sklearn.linear_model import LogisticRegression\n",
    "lr = LogisticRegression(random_state=0)\n",
    "lr.fit(X_train, y_train)"
   ]
  },
  {
   "cell_type": "code",
   "execution_count": 8,
   "metadata": {},
   "outputs": [],
   "source": [
    "#Predict the test set\n",
    "y_pred_lr = lr.predict(X_test)"
   ]
  },
  {
   "cell_type": "code",
   "execution_count": 9,
   "metadata": {},
   "outputs": [
    {
     "data": {
      "image/png": "[encoded data removed]",
      "text/plain": [
       "<Figure size 432x288 with 1 Axes>"
      ]
     },
     "metadata": {
      "needs_background": "light"
     },
     "output_type": "display_data"
    }
   ],
   "source": [
    "#Confusion matrix accuracy is not meaningful for unbalanced classification\n",
    "from sklearn.metrics import plot_confusion_matrix\n",
    "sns.set_context(\"poster\")\n",
    "disp = plot_confusion_matrix(lr, X_test, y_test, cmap='cividis', colorbar=False)"
   ]
  },
  {
   "cell_type": "code",
   "execution_count": 10,
   "metadata": {},
   "outputs": [
    {
     "name": "stdout",
     "output_type": "stream",
     "text": [
      "Average precision-recall score: 0.77211117725839\n"
     ]
    }
   ],
   "source": [
    "#Area under the precision recall curve (AUPRC) is more suitable to unbalanced classification, Recommended by Kaggle\n",
    "from sklearn.metrics import average_precision_score\n",
    "y_score = lr.decision_function(X_test)\n",
    "avg_precision = average_precision_score(y_test, y_score)\n",
    "print('Average precision-recall score:', avg_precision)"
   ]
  },
  {
   "cell_type": "code",
   "execution_count": 11,
   "metadata": {},
   "outputs": [
    {
     "data": {
      "text/plain": [
       "Text(0.5, 1.0, 'Precision-Recall curve: AP=0.77')"
      ]
     },
     "execution_count": 11,
     "metadata": {},
     "output_type": "execute_result"
    },
    {
     "data": {
      "image/png": "[encoded data removed]",
      "text/plain": [
       "<Figure size 432x288 with 1 Axes>"
      ]
     },
     "metadata": {
      "needs_background": "light"
     },
     "output_type": "display_data"
    }
   ],
   "source": [
    "#plot curve\n",
    "from sklearn.metrics import plot_precision_recall_curve\n",
    "disp = plot_precision_recall_curve(lr, X_test, y_test)\n",
    "disp.ax_.set_title('Precision-Recall curve: ' 'AP={0:0.2f}'.format(avg_precision))"
   ]
  },
  {
   "cell_type": "code",
   "execution_count": 12,
   "metadata": {},
   "outputs": [
    {
     "name": "stdout",
     "output_type": "stream",
     "text": [
      "accuracy: 0.9992696834358585\n",
      "precision: 0.8777777777777778\n",
      "recall: 0.6583333333333333\n",
      "f1_score: 0.7523809523809525\n"
     ]
    }
   ],
   "source": [
    "#Get accuracy/precision/recall/f1 scores\n",
    "from sklearn.metrics import accuracy_score, precision_score, recall_score, f1_score\n",
    "acc = accuracy_score(y_test, y_pred_lr)\n",
    "prec = precision_score(y_test, y_pred_lr)\n",
    "rec = recall_score(y_test, y_pred_lr)\n",
    "f1 = f1_score(y_test, y_pred_lr)\n",
    "print('accuracy:', acc)\n",
    "print('precision:', prec)\n",
    "print('recall:', rec)\n",
    "print('f1_score:', f1)"
   ]
  },
  {
   "cell_type": "code",
   "execution_count": 13,
   "metadata": {},
   "outputs": [],
   "source": [
    "#Gather results into a dataframe\n",
    "results = pd.DataFrame([['LogisticsRegression', rec, prec, f1]],\n",
    "               columns = ['Model', 'Recall', 'Precision', 'F1 Score'])"
   ]
  },
  {
   "cell_type": "markdown",
   "metadata": {},
   "source": [
    "# Logistics Regression (Oversampling)"
   ]
  },
  {
   "cell_type": "code",
   "execution_count": 14,
   "metadata": {},
   "outputs": [],
   "source": [
    "#Oversample\n",
    "from imblearn.over_sampling import RandomOverSampler\n",
    "ros = RandomOverSampler(random_state=0)\n",
    "X_train_resampledOS, y_train_resampledOS = ros.fit_resample(X_train, y_train)"
   ]
  },
  {
   "cell_type": "code",
   "execution_count": 15,
   "metadata": {},
   "outputs": [
    {
     "data": {
      "text/plain": [
       "LogisticRegression(random_state=0)"
      ]
     },
     "execution_count": 15,
     "metadata": {},
     "output_type": "execute_result"
    }
   ],
   "source": [
    "#Train the oversampled logistic regression model\n",
    "from sklearn.linear_model import LogisticRegression\n",
    "lr_resampledOS = LogisticRegression(random_state=0)\n",
    "lr_resampledOS.fit(X_train_resampledOS, y_train_resampledOS)"
   ]
  },
  {
   "cell_type": "code",
   "execution_count": 16,
   "metadata": {},
   "outputs": [],
   "source": [
    "#Predict the test set\n",
    "y_pred_lrOS = lr_resampledOS.predict(X_test)"
   ]
  },
  {
   "cell_type": "code",
   "execution_count": 17,
   "metadata": {},
   "outputs": [
    {
     "data": {
      "image/png": "[encoded data removed]",
      "text/plain": [
       "<Figure size 432x288 with 2 Axes>"
      ]
     },
     "metadata": {
      "needs_background": "light"
     },
     "output_type": "display_data"
    }
   ],
   "source": [
    "#Confusion matrix accuracy is not meaningful for unbalanced classification\n",
    "from sklearn.metrics import plot_confusion_matrix\n",
    "sns.set_context(\"poster\")\n",
    "disp = plot_confusion_matrix(lr_resampledOS, X_test, y_test, cmap='cividis', colorbar=True)"
   ]
  },
  {
   "cell_type": "code",
   "execution_count": 18,
   "metadata": {},
   "outputs": [
    {
     "name": "stdout",
     "output_type": "stream",
     "text": [
      "Average precision-recall score: 0.7595760417231494\n"
     ]
    }
   ],
   "source": [
    "#Area under the precision recall curve (AUPRC) is more suitable to unbalanced classification, Recommended by Kaggle\n",
    "from sklearn.metrics import average_precision_score\n",
    "y_score = lr_resampledOS.decision_function(X_test)\n",
    "avg_precision = average_precision_score(y_test, y_score)\n",
    "print('Average precision-recall score:', avg_precision)"
   ]
  },
  {
   "cell_type": "code",
   "execution_count": 19,
   "metadata": {},
   "outputs": [
    {
     "data": {
      "text/plain": [
       "Text(0.5, 1.0, 'Precision-Recall curve: AP=0.76')"
      ]
     },
     "execution_count": 19,
     "metadata": {},
     "output_type": "execute_result"
    },
    {
     "data": {
      "image/png": "[encoded data removed]",
      "text/plain": [
       "<Figure size 432x288 with 1 Axes>"
      ]
     },
     "metadata": {
      "needs_background": "light"
     },
     "output_type": "display_data"
    }
   ],
   "source": [
    "#Plot the curve\n",
    "from sklearn.metrics import plot_precision_recall_curve\n",
    "disp = plot_precision_recall_curve(lr_resampledOS, X_test, y_test)\n",
    "disp.ax_.set_title('Precision-Recall curve: ' 'AP={0:0.2f}'.format(avg_precision))"
   ]
  },
  {
   "cell_type": "code",
   "execution_count": 20,
   "metadata": {},
   "outputs": [
    {
     "name": "stdout",
     "output_type": "stream",
     "text": [
      "accuracy: 0.9778798348361001\n",
      "precision: 0.06515242080095636\n",
      "recall: 0.9083333333333333\n",
      "f1_score: 0.12158393753485776\n"
     ]
    }
   ],
   "source": [
    "#Get accuracy/precision/recall/f1 scores\n",
    "from sklearn.metrics import accuracy_score, precision_score, recall_score, f1_score\n",
    "acc = accuracy_score(y_test, y_pred_lrOS)\n",
    "prec = precision_score(y_test, y_pred_lrOS)\n",
    "rec = recall_score(y_test, y_pred_lrOS)\n",
    "f1 = f1_score(y_test, y_pred_lrOS)\n",
    "print('accuracy:', acc)\n",
    "print('precision:', prec)\n",
    "print('recall:', rec)\n",
    "print('f1_score:', f1)"
   ]
  },
  {
   "cell_type": "code",
   "execution_count": 21,
   "metadata": {},
   "outputs": [],
   "source": [
    "#Gather results into a dataframe\n",
    "model_results = pd.DataFrame([['OverSampledLogisticsRegression', rec, prec, f1]],\n",
    "               columns = ['Model', 'Recall', 'Precision', 'F1 Score'])\n",
    "results = results.append(model_results, ignore_index = True)"
   ]
  },
  {
   "cell_type": "markdown",
   "metadata": {},
   "source": [
    "# Logistics Regression (Undersampling)"
   ]
  },
  {
   "cell_type": "code",
   "execution_count": 22,
   "metadata": {},
   "outputs": [],
   "source": [
    "#Undersample\n",
    "from imblearn.under_sampling import RandomUnderSampler\n",
    "rus = RandomUnderSampler(random_state=0)\n",
    "X_train_resampledUS, y_train_resampledUS = rus.fit_resample(X_train, y_train)"
   ]
  },
  {
   "cell_type": "code",
   "execution_count": 23,
   "metadata": {},
   "outputs": [
    {
     "data": {
      "text/plain": [
       "LogisticRegression()"
      ]
     },
     "execution_count": 23,
     "metadata": {},
     "output_type": "execute_result"
    }
   ],
   "source": [
    "#Train the undersampled logistic regression model\n",
    "from sklearn.linear_model import LogisticRegression\n",
    "lr_resampledUS = LogisticRegression()\n",
    "lr_resampledUS.fit(X_train_resampledUS, y_train_resampledUS)"
   ]
  },
  {
   "cell_type": "code",
   "execution_count": 24,
   "metadata": {},
   "outputs": [],
   "source": [
    "#Predict the test set\n",
    "y_pred_lrUS = lr_resampledUS.predict(X_test)"
   ]
  },
  {
   "cell_type": "code",
   "execution_count": 25,
   "metadata": {},
   "outputs": [
    {
     "data": {
      "image/png": "[encoded data removed]",
      "text/plain": [
       "<Figure size 432x288 with 2 Axes>"
      ]
     },
     "metadata": {
      "needs_background": "light"
     },
     "output_type": "display_data"
    }
   ],
   "source": [
    "#Confusion matrix accuracy is not meaningful for unbalanced classification\n",
    "from sklearn.metrics import plot_confusion_matrix\n",
    "sns.set_context(\"poster\")\n",
    "disp = plot_confusion_matrix(lr_resampledUS, X_test, y_test, cmap='cividis', colorbar=True)"
   ]
  },
  {
   "cell_type": "code",
   "execution_count": 26,
   "metadata": {},
   "outputs": [
    {
     "name": "stdout",
     "output_type": "stream",
     "text": [
      "Average precision-recall score: 0.5965069727327362\n"
     ]
    }
   ],
   "source": [
    "#Area under the precision recall curve (AUPRC) is more suitable to unbalanced classification, Recommended by Kaggle\n",
    "from sklearn.metrics import average_precision_score\n",
    "y_score = lr_resampledUS.decision_function(X_test)\n",
    "avg_precision = average_precision_score(y_test, y_score)\n",
    "print('Average precision-recall score:', avg_precision)"
   ]
  },
  {
   "cell_type": "code",
   "execution_count": 27,
   "metadata": {},
   "outputs": [
    {
     "data": {
      "text/plain": [
       "Text(0.5, 1.0, 'Precision-Recall curve: AP=0.60')"
      ]
     },
     "execution_count": 27,
     "metadata": {},
     "output_type": "execute_result"
    },
    {
     "data": {
      "image/png": "[encoded data removed]",
      "text/plain": [
       "<Figure size 432x288 with 1 Axes>"
      ]
     },
     "metadata": {
      "needs_background": "light"
     },
     "output_type": "display_data"
    }
   ],
   "source": [
    "#Plot the curve\n",
    "from sklearn.metrics import plot_precision_recall_curve\n",
    "disp = plot_precision_recall_curve(lr_resampledUS, X_test, y_test)\n",
    "disp.ax_.set_title('Precision-Recall curve: ' 'AP={0:0.2f}'.format(avg_precision))"
   ]
  },
  {
   "cell_type": "code",
   "execution_count": 28,
   "metadata": {},
   "outputs": [
    {
     "name": "stdout",
     "output_type": "stream",
     "text": [
      "accuracy: 0.9668689081767367\n",
      "precision: 0.04510361641609102\n",
      "recall: 0.925\n",
      "f1_score: 0.08601317318868655\n"
     ]
    }
   ],
   "source": [
    "#Get accuracy/precision/recall/f1 scores\n",
    "from sklearn.metrics import accuracy_score, precision_score, recall_score, f1_score\n",
    "acc = accuracy_score(y_test, y_pred_lrUS)\n",
    "prec = precision_score(y_test, y_pred_lrUS)\n",
    "rec = recall_score(y_test, y_pred_lrUS)\n",
    "f1 = f1_score(y_test, y_pred_lrUS)\n",
    "print('accuracy:', acc)\n",
    "print('precision:', prec)\n",
    "print('recall:', rec)\n",
    "print('f1_score:', f1)"
   ]
  },
  {
   "cell_type": "code",
   "execution_count": 29,
   "metadata": {},
   "outputs": [],
   "source": [
    "#Gather results into a dataframe\n",
    "model_results = pd.DataFrame([['UnderSampledLogisticsRegression', rec, prec, f1]],\n",
    "               columns = ['Model', 'Recall', 'Precision', 'F1 Score'])\n",
    "results = results.append(model_results, ignore_index = True)"
   ]
  },
  {
   "cell_type": "markdown",
   "metadata": {},
   "source": [
    "# Random Forest"
   ]
  },
  {
   "cell_type": "code",
   "execution_count": 30,
   "metadata": {},
   "outputs": [
    {
     "data": {
      "text/plain": [
       "RandomForestClassifier(criterion='entropy', random_state=0)"
      ]
     },
     "execution_count": 30,
     "metadata": {},
     "output_type": "execute_result"
    }
   ],
   "source": [
    "#Train the random forest model\n",
    "from sklearn.ensemble import RandomForestClassifier\n",
    "rfc = RandomForestClassifier(criterion = 'entropy', random_state = 0)\n",
    "rfc.fit(X_train, y_train)"
   ]
  },
  {
   "cell_type": "code",
   "execution_count": 31,
   "metadata": {},
   "outputs": [],
   "source": [
    "#Predict the test set\n",
    "y_pred_rfc = rfc.predict(X_test)"
   ]
  },
  {
   "cell_type": "code",
   "execution_count": 32,
   "metadata": {},
   "outputs": [
    {
     "data": {
      "image/png": "[encoded data removed]",
      "text/plain": [
       "<Figure size 432x288 with 2 Axes>"
      ]
     },
     "metadata": {
      "needs_background": "light"
     },
     "output_type": "display_data"
    }
   ],
   "source": [
    "#Confusion matrix accuracy is not meaningful for unbalanced classification\n",
    "from sklearn.metrics import plot_confusion_matrix\n",
    "sns.set_context(\"poster\")\n",
    "disp = plot_confusion_matrix(rfc, X_test, y_test, cmap='cividis', colorbar=True)"
   ]
  },
  {
   "cell_type": "code",
   "execution_count": 33,
   "metadata": {},
   "outputs": [
    {
     "name": "stdout",
     "output_type": "stream",
     "text": [
      "accuracy: 0.9995505744220669\n",
      "precision: 0.94\n",
      "recall: 0.7833333333333333\n",
      "f1_score: 0.8545454545454546\n"
     ]
    }
   ],
   "source": [
    "#Get accuracy/precision/recall/f1 scores\n",
    "from sklearn.metrics import accuracy_score, precision_score, recall_score, f1_score\n",
    "acc = accuracy_score(y_test, y_pred_rfc)\n",
    "prec = precision_score(y_test, y_pred_rfc)\n",
    "rec = recall_score(y_test, y_pred_rfc)\n",
    "f1 = f1_score(y_test, y_pred_rfc)\n",
    "print('accuracy:', acc)\n",
    "print('precision:', prec)\n",
    "print('recall:', rec)\n",
    "print('f1_score:', f1)"
   ]
  },
  {
   "cell_type": "code",
   "execution_count": 34,
   "metadata": {},
   "outputs": [],
   "source": [
    "#Gather results into a dataframe\n",
    "model_results = pd.DataFrame([['RandomForest', rec, prec, f1]],\n",
    "               columns = ['Model', 'Recall', 'Precision', 'F1 Score'])\n",
    "results = results.append(model_results, ignore_index = True)"
   ]
  },
  {
   "cell_type": "markdown",
   "metadata": {},
   "source": [
    "# Random Forest (Oversampling)"
   ]
  },
  {
   "cell_type": "code",
   "execution_count": 35,
   "metadata": {},
   "outputs": [],
   "source": [
    "#Oversample\n",
    "from imblearn.over_sampling import RandomOverSampler\n",
    "ros = RandomOverSampler(random_state=0)\n",
    "X_train_resampledOS, y_train_resampledOS = ros.fit_resample(X_train, y_train)"
   ]
  },
  {
   "cell_type": "code",
   "execution_count": 36,
   "metadata": {},
   "outputs": [
    {
     "data": {
      "text/plain": [
       "RandomForestClassifier(criterion='entropy', random_state=0)"
      ]
     },
     "execution_count": 36,
     "metadata": {},
     "output_type": "execute_result"
    }
   ],
   "source": [
    "#Train the oversampled random forest model\n",
    "from sklearn.ensemble import RandomForestClassifier\n",
    "rfc_resampledOS = RandomForestClassifier(criterion = 'entropy', random_state = 0)\n",
    "rfc_resampledOS.fit(X_train_resampledOS, y_train_resampledOS)"
   ]
  },
  {
   "cell_type": "code",
   "execution_count": 37,
   "metadata": {},
   "outputs": [],
   "source": [
    "#Predict the test set\n",
    "y_pred_rfcOS = rfc_resampledOS.predict(X_test)"
   ]
  },
  {
   "cell_type": "code",
   "execution_count": 38,
   "metadata": {},
   "outputs": [
    {
     "data": {
      "image/png": "[encoded data removed]",
      "text/plain": [
       "<Figure size 432x288 with 2 Axes>"
      ]
     },
     "metadata": {
      "needs_background": "light"
     },
     "output_type": "display_data"
    }
   ],
   "source": [
    "#Confusion matrix accuracy is not meaningful for unbalanced classification\n",
    "from sklearn.metrics import plot_confusion_matrix\n",
    "sns.set_context(\"poster\")\n",
    "disp = plot_confusion_matrix(rfc_resampledOS, X_test, y_test, cmap='cividis', colorbar=True)"
   ]
  },
  {
   "cell_type": "code",
   "execution_count": 39,
   "metadata": {},
   "outputs": [
    {
     "name": "stdout",
     "output_type": "stream",
     "text": [
      "accuracy: 0.9995646189713772\n",
      "precision: 0.9320388349514563\n",
      "recall: 0.8\n",
      "f1_score: 0.8609865470852018\n"
     ]
    }
   ],
   "source": [
    "#Get accuracy/precision/recall/f1 scores\n",
    "from sklearn.metrics import accuracy_score, precision_score, recall_score, f1_score\n",
    "acc = accuracy_score(y_test, y_pred_rfcOS)\n",
    "prec = precision_score(y_test, y_pred_rfcOS)\n",
    "rec = recall_score(y_test, y_pred_rfcOS)\n",
    "f1 = f1_score(y_test, y_pred_rfcOS)\n",
    "print('accuracy:', acc)\n",
    "print('precision:', prec)\n",
    "print('recall:', rec)\n",
    "print('f1_score:', f1)"
   ]
  },
  {
   "cell_type": "code",
   "execution_count": 40,
   "metadata": {},
   "outputs": [],
   "source": [
    "#Gather results into a dataframe\n",
    "model_results = pd.DataFrame([['OverSampledRandomForest', rec, prec, f1]],\n",
    "               columns = ['Model', 'Recall', 'Precision', 'F1 Score'])\n",
    "results = results.append(model_results, ignore_index = True)"
   ]
  },
  {
   "cell_type": "markdown",
   "metadata": {},
   "source": [
    "# Random Forest (Undersampling)"
   ]
  },
  {
   "cell_type": "code",
   "execution_count": 41,
   "metadata": {},
   "outputs": [],
   "source": [
    "#Undersampled\n",
    "from imblearn.under_sampling import RandomUnderSampler\n",
    "rus = RandomUnderSampler(random_state=0)\n",
    "X_train_resampledUS, y_train_resampledUS = rus.fit_resample(X_train, y_train)"
   ]
  },
  {
   "cell_type": "code",
   "execution_count": 42,
   "metadata": {},
   "outputs": [
    {
     "data": {
      "text/plain": [
       "RandomForestClassifier(criterion='entropy', random_state=0)"
      ]
     },
     "execution_count": 42,
     "metadata": {},
     "output_type": "execute_result"
    }
   ],
   "source": [
    "#Train the undersampled random forest model\n",
    "from sklearn.ensemble import RandomForestClassifier\n",
    "rfc_resampledUS = RandomForestClassifier(criterion = 'entropy', random_state=0)\n",
    "rfc_resampledUS.fit(X_train_resampledUS, y_train_resampledUS)"
   ]
  },
  {
   "cell_type": "code",
   "execution_count": 43,
   "metadata": {},
   "outputs": [],
   "source": [
    "#Predict the test set\n",
    "y_pred_rfcUS = rfc_resampledUS.predict(X_test)"
   ]
  },
  {
   "cell_type": "code",
   "execution_count": 44,
   "metadata": {},
   "outputs": [
    {
     "data": {
      "image/png": "[encoded data removed]",
      "text/plain": [
       "<Figure size 432x288 with 2 Axes>"
      ]
     },
     "metadata": {
      "needs_background": "light"
     },
     "output_type": "display_data"
    }
   ],
   "source": [
    "#Confusion matrix accuracy is not meaningful for unbalanced classification\n",
    "from sklearn.metrics import plot_confusion_matrix\n",
    "sns.set_context(\"poster\")\n",
    "disp = plot_confusion_matrix(rfc_resampledUS, X_test, y_test, cmap='cividis', colorbar=True)"
   ]
  },
  {
   "cell_type": "code",
   "execution_count": 45,
   "metadata": {},
   "outputs": [
    {
     "name": "stdout",
     "output_type": "stream",
     "text": [
      "accuracy: 0.9714052976039999\n",
      "precision: 0.04981203007518797\n",
      "recall: 0.8833333333333333\n",
      "f1_score: 0.09430604982206404\n"
     ]
    }
   ],
   "source": [
    "#Get accuracy/precision/recall/f1 scores\n",
    "from sklearn.metrics import accuracy_score, precision_score, recall_score, f1_score\n",
    "acc = accuracy_score(y_test, y_pred_rfcUS)\n",
    "prec = precision_score(y_test, y_pred_rfcUS)\n",
    "rec = recall_score(y_test, y_pred_rfcUS)\n",
    "f1 = f1_score(y_test, y_pred_rfcUS)\n",
    "print('accuracy:', acc)\n",
    "print('precision:', prec)\n",
    "print('recall:', rec)\n",
    "print('f1_score:', f1)"
   ]
  },
  {
   "cell_type": "code",
   "execution_count": 46,
   "metadata": {},
   "outputs": [],
   "source": [
    "#Gather results into a dataframe\n",
    "model_results = pd.DataFrame([['UnderSampledRandomForest', rec, prec, f1]],\n",
    "               columns = ['Model', 'Recall', 'Precision', 'F1 Score'])\n",
    "results = results.append(model_results, ignore_index = True)"
   ]
  },
  {
   "cell_type": "markdown",
   "metadata": {},
   "source": [
    "# Neural Network"
   ]
  },
  {
   "cell_type": "code",
   "execution_count": 47,
   "metadata": {},
   "outputs": [],
   "source": [
    "#Initialising the ANN\n",
    "from keras.models import Sequential\n",
    "ann = Sequential()"
   ]
  },
  {
   "cell_type": "code",
   "execution_count": 48,
   "metadata": {},
   "outputs": [],
   "source": [
    "from keras.layers import Dense\n",
    "#Input layer and first hidden layer\n",
    "ann.add(Dense(units=16, kernel_initializer='uniform', activation='relu', input_dim=30))\n",
    "#hidden layers\n",
    "ann.add(Dense(units=16, kernel_initializer='uniform', activation='relu'))\n",
    "ann.add(Dense(units=16, kernel_initializer='uniform', activation='relu'))\n",
    "ann.add(Dense(units=16, kernel_initializer='uniform', activation='relu'))\n",
    "#Output layer\n",
    "ann.add(Dense(units=1, kernel_initializer='uniform', activation='sigmoid'))"
   ]
  },
  {
   "cell_type": "code",
   "execution_count": 49,
   "metadata": {},
   "outputs": [],
   "source": [
    "#Compile the model\n",
    "ann.compile(optimizer = 'adam', loss = 'binary_crossentropy', metrics = ['accuracy'])"
   ]
  },
  {
   "cell_type": "code",
   "execution_count": 50,
   "metadata": {},
   "outputs": [
    {
     "name": "stdout",
     "output_type": "stream",
     "text": [
      "Epoch 1/5\n",
      "21361/21361 [==============================] - 23s 1ms/step - loss: 0.0072 - accuracy: 0.9990\n",
      "Epoch 2/5\n",
      "21361/21361 [==============================] - 26s 1ms/step - loss: 0.0036 - accuracy: 0.9993\n",
      "Epoch 3/5\n",
      "21361/21361 [==============================] - 31s 1ms/step - loss: 0.0032 - accuracy: 0.9994 0s - los\n",
      "Epoch 4/5\n",
      "21361/21361 [==============================] - 26s 1ms/step - loss: 0.0030 - accuracy: 0.9994\n",
      "Epoch 5/5\n",
      "21361/21361 [==============================] - 26s 1ms/step - loss: 0.0031 - accuracy: 0.9994 0s - loss: 0.0031 - ac\n"
     ]
    },
    {
     "data": {
      "text/plain": [
       "<keras.callbacks.History at 0x19e5b215e20>"
      ]
     },
     "execution_count": 50,
     "metadata": {},
     "output_type": "execute_result"
    }
   ],
   "source": [
    "#Fit the model\n",
    "ann.fit(X_train, y_train, batch_size = 10, epochs = 5)"
   ]
  },
  {
   "cell_type": "code",
   "execution_count": 51,
   "metadata": {},
   "outputs": [
    {
     "name": "stdout",
     "output_type": "stream",
     "text": [
      "2226/2226 [==============================] - 2s 763us/step - loss: 0.0033 - accuracy: 0.9994\n"
     ]
    },
    {
     "data": {
      "text/plain": [
       "[0.0032530820462852716, 0.9994101524353027]"
      ]
     },
     "execution_count": 51,
     "metadata": {},
     "output_type": "execute_result"
    }
   ],
   "source": [
    "#Get the generalization error\n",
    "ann.evaluate(X_test, y_test)"
   ]
  },
  {
   "cell_type": "code",
   "execution_count": 52,
   "metadata": {},
   "outputs": [],
   "source": [
    "#Predict the test set\n",
    "y_pred_nn = ann.predict(X_test)\n",
    "y_pred_nn = (y_pred_nn > 0.5)"
   ]
  },
  {
   "cell_type": "code",
   "execution_count": 53,
   "metadata": {},
   "outputs": [
    {
     "data": {
      "text/plain": [
       "<AxesSubplot:>"
      ]
     },
     "execution_count": 53,
     "metadata": {},
     "output_type": "execute_result"
    },
    {
     "data": {
      "image/png": "[encoded data removed]",
      "text/plain": [
       "<Figure size 432x288 with 2 Axes>"
      ]
     },
     "metadata": {
      "needs_background": "light"
     },
     "output_type": "display_data"
    }
   ],
   "source": [
    "#Confusion matrix accuracy is not meaningful for unbalanced classification\n",
    "from sklearn.metrics import confusion_matrix\n",
    "sns.set_context(\"poster\")\n",
    "cm = confusion_matrix(y_test, y_pred_nn)\n",
    "sns.heatmap(cm, annot=True, fmt='g')"
   ]
  },
  {
   "cell_type": "code",
   "execution_count": 54,
   "metadata": {},
   "outputs": [
    {
     "name": "stdout",
     "output_type": "stream",
     "text": [
      "accuracy: 0.9994101289289626\n",
      "precision: 0.8482142857142857\n",
      "recall: 0.7916666666666666\n",
      "f1_score: 0.8189655172413793\n"
     ]
    }
   ],
   "source": [
    "#Get accuracy/precision/recall/f1 scores\n",
    "from sklearn.metrics import accuracy_score, precision_score, recall_score, f1_score\n",
    "acc = accuracy_score(y_test, y_pred_nn)\n",
    "prec = precision_score(y_test, y_pred_nn)\n",
    "rec = recall_score(y_test, y_pred_nn)\n",
    "f1 = f1_score(y_test, y_pred_nn)\n",
    "print('accuracy:', acc)\n",
    "print('precision:', prec)\n",
    "print('recall:', rec)\n",
    "print('f1_score:', f1)"
   ]
  },
  {
   "cell_type": "code",
   "execution_count": 55,
   "metadata": {},
   "outputs": [],
   "source": [
    "#Gather results into a dataframe\n",
    "model_results = pd.DataFrame([['NeuralNetwork', rec, prec, f1]],\n",
    "               columns = ['Model', 'Recall', 'Precision', 'F1 Score'])\n",
    "results = results.append(model_results, ignore_index = True)"
   ]
  },
  {
   "cell_type": "markdown",
   "metadata": {},
   "source": [
    "# Neural Network (Oversampling)"
   ]
  },
  {
   "cell_type": "code",
   "execution_count": 56,
   "metadata": {},
   "outputs": [],
   "source": [
    "#Oversampled\n",
    "from imblearn.over_sampling import RandomOverSampler\n",
    "ros = RandomOverSampler(random_state=0)\n",
    "X_train_resampledOS, y_train_resampledOS = ros.fit_resample(X_train, y_train)"
   ]
  },
  {
   "cell_type": "code",
   "execution_count": 57,
   "metadata": {},
   "outputs": [],
   "source": [
    "#Initialising the ANN\n",
    "from keras.models import Sequential\n",
    "ann = Sequential()"
   ]
  },
  {
   "cell_type": "code",
   "execution_count": 58,
   "metadata": {},
   "outputs": [],
   "source": [
    "from keras.layers import Dense\n",
    "#Input layer and first hidden layer\n",
    "ann.add(Dense(units=16, kernel_initializer='uniform', activation='relu', input_dim=30))\n",
    "#hidden layers\n",
    "ann.add(Dense(units=16, kernel_initializer='uniform', activation='relu'))\n",
    "ann.add(Dense(units=16, kernel_initializer='uniform', activation='relu'))\n",
    "ann.add(Dense(units=16, kernel_initializer='uniform', activation='relu'))\n",
    "#Output layer\n",
    "ann.add(Dense(units=1, kernel_initializer='uniform', activation='sigmoid'))"
   ]
  },
  {
   "cell_type": "code",
   "execution_count": 59,
   "metadata": {},
   "outputs": [],
   "source": [
    "#Compile the model\n",
    "ann.compile(optimizer = 'adam', loss = 'binary_crossentropy', metrics = ['accuracy'])"
   ]
  },
  {
   "cell_type": "code",
   "execution_count": 60,
   "metadata": {},
   "outputs": [
    {
     "name": "stdout",
     "output_type": "stream",
     "text": [
      "Epoch 1/5\n",
      "42647/42647 [==============================] - 39s 907us/step - loss: 0.0275 - accuracy: 0.9915\n",
      "Epoch 2/5\n",
      "42647/42647 [==============================] - 41s 971us/step - loss: 0.0101 - accuracy: 0.9975s - los\n",
      "Epoch 3/5\n",
      "42647/42647 [==============================] - 55s 1ms/step - loss: 0.0072 - accuracy: 0.9983\n",
      "Epoch 4/5\n",
      "42647/42647 [==============================] - 50s 1ms/step - loss: 0.0057 - accuracy: 0.9987\n",
      "Epoch 5/5\n",
      "42647/42647 [==============================] - 50s 1ms/step - loss: 0.0048 - accuracy: 0.9989 0s - loss:\n"
     ]
    },
    {
     "data": {
      "text/plain": [
       "<keras.callbacks.History at 0x19e7b25c5b0>"
      ]
     },
     "execution_count": 60,
     "metadata": {},
     "output_type": "execute_result"
    }
   ],
   "source": [
    "#Fit the model\n",
    "ann.fit(X_train_resampledOS, y_train_resampledOS, batch_size = 10, epochs = 5)"
   ]
  },
  {
   "cell_type": "code",
   "execution_count": 61,
   "metadata": {},
   "outputs": [
    {
     "name": "stdout",
     "output_type": "stream",
     "text": [
      "2226/2226 [==============================] - 2s 696us/step - loss: 0.0119 - accuracy: 0.9985\n"
     ]
    },
    {
     "data": {
      "text/plain": [
       "[0.011896570213139057, 0.9984691739082336]"
      ]
     },
     "execution_count": 61,
     "metadata": {},
     "output_type": "execute_result"
    }
   ],
   "source": [
    "#Get the generalization error\n",
    "ann.evaluate(X_test, y_test)"
   ]
  },
  {
   "cell_type": "code",
   "execution_count": 62,
   "metadata": {},
   "outputs": [],
   "source": [
    "#Predict the test set\n",
    "y_pred_nnOS = ann.predict(X_test)\n",
    "y_pred_nnOS = (y_pred_nnOS > 0.5)"
   ]
  },
  {
   "cell_type": "code",
   "execution_count": 63,
   "metadata": {},
   "outputs": [
    {
     "data": {
      "text/plain": [
       "<AxesSubplot:>"
      ]
     },
     "execution_count": 63,
     "metadata": {},
     "output_type": "execute_result"
    },
    {
     "data": {
      "image/png": "[encoded data removed]",
      "text/plain": [
       "<Figure size 432x288 with 2 Axes>"
      ]
     },
     "metadata": {
      "needs_background": "light"
     },
     "output_type": "display_data"
    }
   ],
   "source": [
    "#Confusion matrix accuracy is not meaningful for unbalanced classification\n",
    "from sklearn.metrics import confusion_matrix\n",
    "sns.set_context(\"poster\")\n",
    "cm = confusion_matrix(y_test, y_pred_nnOS)\n",
    "sns.heatmap(cm, annot=True, fmt='g')"
   ]
  },
  {
   "cell_type": "code",
   "execution_count": 64,
   "metadata": {},
   "outputs": [
    {
     "name": "stdout",
     "output_type": "stream",
     "text": [
      "accuracy: 0.9984691441251651\n",
      "precision: 0.5284974093264249\n",
      "recall: 0.85\n",
      "f1_score: 0.6517571884984026\n"
     ]
    }
   ],
   "source": [
    "#Get accuracy/precision/recall/f1 scores\n",
    "from sklearn.metrics import accuracy_score, precision_score, recall_score, f1_score\n",
    "acc = accuracy_score(y_test, y_pred_nnOS)\n",
    "prec = precision_score(y_test, y_pred_nnOS)\n",
    "rec = recall_score(y_test, y_pred_nnOS)\n",
    "f1 = f1_score(y_test, y_pred_nnOS)\n",
    "print('accuracy:', acc)\n",
    "print('precision:', prec)\n",
    "print('recall:', rec)\n",
    "print('f1_score:', f1)"
   ]
  },
  {
   "cell_type": "code",
   "execution_count": 65,
   "metadata": {},
   "outputs": [],
   "source": [
    "#Gather results into a dataframe\n",
    "model_results = pd.DataFrame([['OverSampledNeuralNetwork', rec, prec, f1]],\n",
    "               columns = ['Model', 'Recall', 'Precision', 'F1 Score'])\n",
    "results = results.append(model_results, ignore_index = True)"
   ]
  },
  {
   "cell_type": "markdown",
   "metadata": {},
   "source": [
    "# Neural Network (Undersampling)"
   ]
  },
  {
   "cell_type": "code",
   "execution_count": 66,
   "metadata": {},
   "outputs": [],
   "source": [
    "#Undersampled\n",
    "from imblearn.under_sampling import RandomUnderSampler\n",
    "rus = RandomUnderSampler(random_state=0)\n",
    "X_train_resampledUS, y_train_resampledUS = rus.fit_resample(X_train, y_train)"
   ]
  },
  {
   "cell_type": "code",
   "execution_count": 67,
   "metadata": {},
   "outputs": [],
   "source": [
    "#Initialising the ANN\n",
    "from keras.models import Sequential\n",
    "ann = Sequential()"
   ]
  },
  {
   "cell_type": "code",
   "execution_count": 68,
   "metadata": {},
   "outputs": [],
   "source": [
    "from keras.layers import Dense\n",
    "#Input layer and first hidden layer\n",
    "ann.add(Dense(units=16, kernel_initializer='uniform', activation='relu', input_dim=30))\n",
    "#hidden layers\n",
    "ann.add(Dense(units=16, kernel_initializer='uniform', activation='relu'))\n",
    "ann.add(Dense(units=16, kernel_initializer='uniform', activation='relu'))\n",
    "ann.add(Dense(units=16, kernel_initializer='uniform', activation='relu'))\n",
    "#Output layer\n",
    "ann.add(Dense(units=1, kernel_initializer='uniform', activation='sigmoid'))"
   ]
  },
  {
   "cell_type": "code",
   "execution_count": 69,
   "metadata": {},
   "outputs": [],
   "source": [
    "#Compile the model\n",
    "ann.compile(optimizer = 'adam', loss = 'binary_crossentropy', metrics = ['accuracy'])"
   ]
  },
  {
   "cell_type": "code",
   "execution_count": 70,
   "metadata": {},
   "outputs": [
    {
     "name": "stdout",
     "output_type": "stream",
     "text": [
      "Epoch 1/5\n",
      "75/75 [==============================] - 1s 979us/step - loss: 0.6746 - accuracy: 0.7594\n",
      "Epoch 2/5\n",
      "75/75 [==============================] - 0s 912us/step - loss: 0.3969 - accuracy: 0.9301\n",
      "Epoch 3/5\n",
      "75/75 [==============================] - 0s 878us/step - loss: 0.2064 - accuracy: 0.9368\n",
      "Epoch 4/5\n",
      "75/75 [==============================] - 0s 952us/step - loss: 0.1560 - accuracy: 0.9462\n",
      "Epoch 5/5\n",
      "75/75 [==============================] - 0s 878us/step - loss: 0.1427 - accuracy: 0.9462\n"
     ]
    },
    {
     "data": {
      "text/plain": [
       "<keras.callbacks.History at 0x19e4fe62c40>"
      ]
     },
     "execution_count": 70,
     "metadata": {},
     "output_type": "execute_result"
    }
   ],
   "source": [
    "#Fit the model\n",
    "ann.fit(X_train_resampledUS, y_train_resampledUS, batch_size = 10, epochs = 5)"
   ]
  },
  {
   "cell_type": "code",
   "execution_count": 71,
   "metadata": {},
   "outputs": [
    {
     "name": "stdout",
     "output_type": "stream",
     "text": [
      "2226/2226 [==============================] - 2s 635us/step - loss: 0.1280 - accuracy: 0.9621\n"
     ]
    },
    {
     "data": {
      "text/plain": [
       "[0.1280244141817093, 0.9620797038078308]"
      ]
     },
     "execution_count": 71,
     "metadata": {},
     "output_type": "execute_result"
    }
   ],
   "source": [
    "#Get the generalization error\n",
    "ann.evaluate(X_test, y_test)"
   ]
  },
  {
   "cell_type": "code",
   "execution_count": 72,
   "metadata": {},
   "outputs": [],
   "source": [
    "#Predict the test set\n",
    "y_pred_nnUS = ann.predict(X_test)\n",
    "y_pred_nnUS = (y_pred_nnUS > 0.5)"
   ]
  },
  {
   "cell_type": "code",
   "execution_count": 73,
   "metadata": {},
   "outputs": [
    {
     "data": {
      "text/plain": [
       "<AxesSubplot:>"
      ]
     },
     "execution_count": 73,
     "metadata": {},
     "output_type": "execute_result"
    },
    {
     "data": {
      "image/png": "[encoded data removed]",
      "text/plain": [
       "<Figure size 432x288 with 2 Axes>"
      ]
     },
     "metadata": {
      "needs_background": "light"
     },
     "output_type": "display_data"
    }
   ],
   "source": [
    "#Confusion matrix accuracy is not meaningful for unbalanced classification\n",
    "from sklearn.metrics import confusion_matrix\n",
    "sns.set_context(\"poster\")\n",
    "cm = confusion_matrix(y_test, y_pred_nnUS)\n",
    "sns.heatmap(cm, annot=True, fmt='g')"
   ]
  },
  {
   "cell_type": "code",
   "execution_count": 74,
   "metadata": {},
   "outputs": [
    {
     "name": "stdout",
     "output_type": "stream",
     "text": [
      "accuracy: 0.9620797168618859\n",
      "precision: 0.039285714285714285\n",
      "recall: 0.9166666666666666\n",
      "f1_score: 0.07534246575342465\n"
     ]
    }
   ],
   "source": [
    "#Get accuracy/precision/recall/f1 scores\n",
    "from sklearn.metrics import accuracy_score, precision_score, recall_score, f1_score\n",
    "acc = accuracy_score(y_test, y_pred_nnUS)\n",
    "prec = precision_score(y_test, y_pred_nnUS)\n",
    "rec = recall_score(y_test, y_pred_nnUS)\n",
    "f1 = f1_score(y_test, y_pred_nnUS)\n",
    "print('accuracy:', acc)\n",
    "print('precision:', prec)\n",
    "print('recall:', rec)\n",
    "print('f1_score:', f1)"
   ]
  },
  {
   "cell_type": "code",
   "execution_count": 75,
   "metadata": {},
   "outputs": [
    {
     "data": {
      "text/html": [
       "<div>\n",
       "<style scoped>\n",
       "    .dataframe tbody tr th:only-of-type {\n",
       "        vertical-align: middle;\n",
       "    }\n",
       "\n",
       "    .dataframe tbody tr th {\n",
       "        vertical-align: top;\n",
       "    }\n",
       "\n",
       "    .dataframe thead th {\n",
       "        text-align: right;\n",
       "    }\n",
       "</style>\n",
       "<table border=\"1\" class=\"dataframe\">\n",
       "  <thead>\n",
       "    <tr style=\"text-align: right;\">\n",
       "      <th></th>\n",
       "      <th>Model</th>\n",
       "      <th>Recall</th>\n",
       "      <th>Precision</th>\n",
       "      <th>F1 Score</th>\n",
       "    </tr>\n",
       "  </thead>\n",
       "  <tbody>\n",
       "    <tr>\n",
       "      <th>0</th>\n",
       "      <td>LogisticsRegression</td>\n",
       "      <td>0.658333</td>\n",
       "      <td>0.877778</td>\n",
       "      <td>0.752381</td>\n",
       "    </tr>\n",
       "    <tr>\n",
       "      <th>1</th>\n",
       "      <td>OverSampledLogisticsRegression</td>\n",
       "      <td>0.908333</td>\n",
       "      <td>0.065152</td>\n",
       "      <td>0.121584</td>\n",
       "    </tr>\n",
       "    <tr>\n",
       "      <th>2</th>\n",
       "      <td>UnderSampledLogisticsRegression</td>\n",
       "      <td>0.925000</td>\n",
       "      <td>0.045104</td>\n",
       "      <td>0.086013</td>\n",
       "    </tr>\n",
       "    <tr>\n",
       "      <th>3</th>\n",
       "      <td>RandomForest</td>\n",
       "      <td>0.783333</td>\n",
       "      <td>0.940000</td>\n",
       "      <td>0.854545</td>\n",
       "    </tr>\n",
       "    <tr>\n",
       "      <th>4</th>\n",
       "      <td>OverSampledRandomForest</td>\n",
       "      <td>0.800000</td>\n",
       "      <td>0.932039</td>\n",
       "      <td>0.860987</td>\n",
       "    </tr>\n",
       "    <tr>\n",
       "      <th>5</th>\n",
       "      <td>UnderSampledRandomForest</td>\n",
       "      <td>0.883333</td>\n",
       "      <td>0.049812</td>\n",
       "      <td>0.094306</td>\n",
       "    </tr>\n",
       "    <tr>\n",
       "      <th>6</th>\n",
       "      <td>NeuralNetwork</td>\n",
       "      <td>0.791667</td>\n",
       "      <td>0.848214</td>\n",
       "      <td>0.818966</td>\n",
       "    </tr>\n",
       "    <tr>\n",
       "      <th>7</th>\n",
       "      <td>OverSampledNeuralNetwork</td>\n",
       "      <td>0.850000</td>\n",
       "      <td>0.528497</td>\n",
       "      <td>0.651757</td>\n",
       "    </tr>\n",
       "    <tr>\n",
       "      <th>8</th>\n",
       "      <td>UnderSampledNeuralNetwork</td>\n",
       "      <td>0.916667</td>\n",
       "      <td>0.039286</td>\n",
       "      <td>0.075342</td>\n",
       "    </tr>\n",
       "  </tbody>\n",
       "</table>\n",
       "</div>"
      ],
      "text/plain": [
       "                             Model    Recall  Precision  F1 Score\n",
       "0              LogisticsRegression  0.658333   0.877778  0.752381\n",
       "1   OverSampledLogisticsRegression  0.908333   0.065152  0.121584\n",
       "2  UnderSampledLogisticsRegression  0.925000   0.045104  0.086013\n",
       "3                     RandomForest  0.783333   0.940000  0.854545\n",
       "4          OverSampledRandomForest  0.800000   0.932039  0.860987\n",
       "5         UnderSampledRandomForest  0.883333   0.049812  0.094306\n",
       "6                    NeuralNetwork  0.791667   0.848214  0.818966\n",
       "7         OverSampledNeuralNetwork  0.850000   0.528497  0.651757\n",
       "8        UnderSampledNeuralNetwork  0.916667   0.039286  0.075342"
      ]
     },
     "execution_count": 75,
     "metadata": {},
     "output_type": "execute_result"
    }
   ],
   "source": [
    "#Gather results into a dataframe\n",
    "#Final results\n",
    "model_results = pd.DataFrame([['UnderSampledNeuralNetwork', rec, prec, f1]],\n",
    "               columns = ['Model', 'Recall', 'Precision', 'F1 Score'])\n",
    "results = results.append(model_results, ignore_index = True)\n",
    "results"
   ]
  }
 ],
 "metadata": {
  "interpreter": {
   "hash": "533e98f5e8b84dc248a9ac5019554f88a2a445e6fff339af924c1909d9276bb8"
  },
  "kernelspec": {
   "display_name": "Python 3.9.1 64-bit",
   "language": "python",
   "name": "python3"
  },
  "language_info": {
   "codemirror_mode": {
    "name": "ipython",
    "version": 3
   },
   "file_extension": ".py",
   "mimetype": "text/x-python",
   "name": "python",
   "nbconvert_exporter": "python",
   "pygments_lexer": "ipython3",
   "version": "3.9.1"
  },
  "metadata": {
   "interpreter": {
    "hash": "533e98f5e8b84dc248a9ac5019554f88a2a445e6fff339af924c1909d9276bb8"
   }
  },
  "orig_nbformat": 2
 },
 "nbformat": 4,
 "nbformat_minor": 2
}
